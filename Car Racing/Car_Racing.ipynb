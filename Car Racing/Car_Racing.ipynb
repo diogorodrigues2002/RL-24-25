{
 "cells": [
  {
   "cell_type": "markdown",
   "id": "89faad07",
   "metadata": {},
   "source": [
    "# Imports"
   ]
  },
  {
   "cell_type": "code",
   "execution_count": 1,
   "id": "55b40975",
   "metadata": {},
   "outputs": [],
   "source": [
    "import gymnasium as gym\n",
    "from stable_baselines3 import SAC, A2C\n",
    "from stable_baselines3.common.monitor import Monitor\n",
    "from stable_baselines3.common.evaluation import evaluate_policy\n",
    "from stable_baselines3.common.callbacks import EvalCallback\n",
    "import matplotlib.pyplot as plt\n",
    "import numpy as np\n",
    "import os\n",
    "from stable_baselines3.common.logger import configure\n"
   ]
  },
  {
   "cell_type": "markdown",
   "id": "0af6b4a2",
   "metadata": {},
   "source": [
    "# Action Space\n",
    "\n",
    "0: steering, -1 is full left, +1 is full right\n",
    "\n",
    "1: gas\n",
    "\n",
    "2: braking"
   ]
  },
  {
   "cell_type": "markdown",
   "id": "ba494834",
   "metadata": {},
   "source": [
    "# Observation Space\n",
    "\n",
    "A top-down 96x96 RGB image of the car and race track."
   ]
  },
  {
   "cell_type": "markdown",
   "id": "e1293973",
   "metadata": {},
   "source": [
    "# Rewards\n",
    "\n",
    "The reward is -0.1 every frame and +1000/N for every track tile visited, where N is the total number of tiles visited in the track. For example, if you have finished in 732 frames, your reward is 1000 - 0.1*732 = 926.8 points."
   ]
  },
  {
   "cell_type": "markdown",
   "id": "86b7f97b",
   "metadata": {},
   "source": [
    "# Environment Initialization"
   ]
  },
  {
   "cell_type": "code",
   "execution_count": 9,
   "id": "dbb15d56",
   "metadata": {},
   "outputs": [],
   "source": [
    "train_env = Monitor(gym.make(\"CarRacing-v3\"))\n",
    "eval_env = Monitor(gym.make(\"CarRacing-v3\"))\n",
    "\n"
   ]
  },
  {
   "cell_type": "markdown",
   "id": "fbedc5f3",
   "metadata": {},
   "source": [
    "# A2C algorithm implementation\n",
    "\n",
    "A2C (Advantage Actor-Critic) is a reinforcement learning algorithm that combines policy-based (actor) and value-based (critic) methods, using the advantage function to reduce variance and improve learning stability. It is a synchronous."
   ]
  },
  {
   "cell_type": "code",
   "execution_count": 3,
   "id": "d3fc483a",
   "metadata": {},
   "outputs": [
    {
     "name": "stdout",
     "output_type": "stream",
     "text": [
      "Using cpu device\n",
      "Wrapping the env in a DummyVecEnv.\n",
      "Wrapping the env in a VecTransposeImage.\n",
      "Logging to ./a2c_logs/training/\n"
     ]
    },
    {
     "data": {
      "application/vnd.jupyter.widget-view+json": {
       "model_id": "e256aa8344be4288b85b942307de0592",
       "version_major": 2,
       "version_minor": 0
      },
      "text/plain": [
       "Output()"
      ]
     },
     "metadata": {},
     "output_type": "display_data"
    },
    {
     "name": "stderr",
     "output_type": "stream",
     "text": [
      "c:\\Users\\tomas\\anaconda3\\envs\\deep-learning-env\\Lib\\site-packages\\stable_baselines3\\common\\callbacks.py:418: UserWarning: Training and eval env are not of the same type<stable_baselines3.common.vec_env.vec_transpose.VecTransposeImage object at 0x0000029A5079E510> != <stable_baselines3.common.vec_env.dummy_vec_env.DummyVecEnv object at 0x0000029A5079DF90>\n",
      "  warnings.warn(\"Training and eval env are not of the same type\" f\"{self.training_env} != {self.eval_env}\")\n"
     ]
    },
    {
     "name": "stdout",
     "output_type": "stream",
     "text": [
      "------------------------------------\n",
      "| time/                 |          |\n",
      "|    fps                | 53       |\n",
      "|    iterations         | 100      |\n",
      "|    time_elapsed       | 9        |\n",
      "|    total_timesteps    | 500      |\n",
      "| train/                |          |\n",
      "|    entropy_loss       | -4.21    |\n",
      "|    explained_variance | 0.00098  |\n",
      "|    learning_rate      | 0.001    |\n",
      "|    n_updates          | 99       |\n",
      "|    policy_loss        | 0.264    |\n",
      "|    std                | 0.984    |\n",
      "|    value_loss         | 0.00594  |\n",
      "------------------------------------\n"
     ]
    },
    {
     "name": "stdout",
     "output_type": "stream",
     "text": [
      "------------------------------------\n",
      "| rollout/              |          |\n",
      "|    ep_len_mean        | 1e+03    |\n",
      "|    ep_rew_mean        | -77.3    |\n",
      "| time/                 |          |\n",
      "|    fps                | 50       |\n",
      "|    iterations         | 200      |\n",
      "|    time_elapsed       | 19       |\n",
      "|    total_timesteps    | 1000     |\n",
      "| train/                |          |\n",
      "|    entropy_loss       | -4.21    |\n",
      "|    explained_variance | -0.0746  |\n",
      "|    learning_rate      | 0.001    |\n",
      "|    n_updates          | 199      |\n",
      "|    policy_loss        | -0.0552  |\n",
      "|    std                | 0.985    |\n",
      "|    value_loss         | 0.000113 |\n",
      "------------------------------------\n"
     ]
    },
    {
     "name": "stdout",
     "output_type": "stream",
     "text": [
      "------------------------------------\n",
      "| rollout/              |          |\n",
      "|    ep_len_mean        | 1e+03    |\n",
      "|    ep_rew_mean        | -77.3    |\n",
      "| time/                 |          |\n",
      "|    fps                | 48       |\n",
      "|    iterations         | 300      |\n",
      "|    time_elapsed       | 30       |\n",
      "|    total_timesteps    | 1500     |\n",
      "| train/                |          |\n",
      "|    entropy_loss       | -4.2     |\n",
      "|    explained_variance | 0.0672   |\n",
      "|    learning_rate      | 0.001    |\n",
      "|    n_updates          | 299      |\n",
      "|    policy_loss        | 0.157    |\n",
      "|    std                | 0.98     |\n",
      "|    value_loss         | 0.00264  |\n",
      "------------------------------------\n"
     ]
    },
    {
     "name": "stdout",
     "output_type": "stream",
     "text": [
      "------------------------------------\n",
      "| rollout/              |          |\n",
      "|    ep_len_mean        | 1e+03    |\n",
      "|    ep_rew_mean        | -85      |\n",
      "| time/                 |          |\n",
      "|    fps                | 48       |\n",
      "|    iterations         | 400      |\n",
      "|    time_elapsed       | 41       |\n",
      "|    total_timesteps    | 2000     |\n",
      "| train/                |          |\n",
      "|    entropy_loss       | -4.19    |\n",
      "|    explained_variance | 0.321    |\n",
      "|    learning_rate      | 0.001    |\n",
      "|    n_updates          | 399      |\n",
      "|    policy_loss        | 0.0199   |\n",
      "|    std                | 0.978    |\n",
      "|    value_loss         | 1.93e-05 |\n",
      "------------------------------------\n"
     ]
    },
    {
     "name": "stdout",
     "output_type": "stream",
     "text": [
      "------------------------------------\n",
      "| rollout/              |          |\n",
      "|    ep_len_mean        | 1e+03    |\n",
      "|    ep_rew_mean        | -85      |\n",
      "| time/                 |          |\n",
      "|    fps                | 46       |\n",
      "|    iterations         | 500      |\n",
      "|    time_elapsed       | 53       |\n",
      "|    total_timesteps    | 2500     |\n",
      "| train/                |          |\n",
      "|    entropy_loss       | -4.2     |\n",
      "|    explained_variance | 0        |\n",
      "|    learning_rate      | 0.001    |\n",
      "|    n_updates          | 499      |\n",
      "|    policy_loss        | 0.105    |\n",
      "|    std                | 0.982    |\n",
      "|    value_loss         | 0.000648 |\n",
      "------------------------------------\n"
     ]
    },
    {
     "name": "stdout",
     "output_type": "stream",
     "text": [
      "------------------------------------\n",
      "| rollout/              |          |\n",
      "|    ep_len_mean        | 1e+03    |\n",
      "|    ep_rew_mean        | -87.9    |\n",
      "| time/                 |          |\n",
      "|    fps                | 45       |\n",
      "|    iterations         | 600      |\n",
      "|    time_elapsed       | 65       |\n",
      "|    total_timesteps    | 3000     |\n",
      "| train/                |          |\n",
      "|    entropy_loss       | -4.2     |\n",
      "|    explained_variance | 0        |\n",
      "|    learning_rate      | 0.001    |\n",
      "|    n_updates          | 599      |\n",
      "|    policy_loss        | 0.111    |\n",
      "|    std                | 0.982    |\n",
      "|    value_loss         | 0.00106  |\n",
      "------------------------------------\n"
     ]
    },
    {
     "name": "stdout",
     "output_type": "stream",
     "text": [
      "------------------------------------\n",
      "| rollout/              |          |\n",
      "|    ep_len_mean        | 1e+03    |\n",
      "|    ep_rew_mean        | -87.9    |\n",
      "| time/                 |          |\n",
      "|    fps                | 44       |\n",
      "|    iterations         | 700      |\n",
      "|    time_elapsed       | 79       |\n",
      "|    total_timesteps    | 3500     |\n",
      "| train/                |          |\n",
      "|    entropy_loss       | -4.2     |\n",
      "|    explained_variance | 0.0618   |\n",
      "|    learning_rate      | 0.001    |\n",
      "|    n_updates          | 699      |\n",
      "|    policy_loss        | 0.0126   |\n",
      "|    std                | 0.981    |\n",
      "|    value_loss         | 1.42e-05 |\n",
      "------------------------------------\n"
     ]
    },
    {
     "name": "stdout",
     "output_type": "stream",
     "text": [
      "------------------------------------\n",
      "| rollout/              |          |\n",
      "|    ep_len_mean        | 1e+03    |\n",
      "|    ep_rew_mean        | -89.4    |\n",
      "| time/                 |          |\n",
      "|    fps                | 42       |\n",
      "|    iterations         | 800      |\n",
      "|    time_elapsed       | 93       |\n",
      "|    total_timesteps    | 4000     |\n",
      "| train/                |          |\n",
      "|    entropy_loss       | -4.23    |\n",
      "|    explained_variance | 0.0181   |\n",
      "|    learning_rate      | 0.001    |\n",
      "|    n_updates          | 799      |\n",
      "|    policy_loss        | 0.0618   |\n",
      "|    std                | 0.99     |\n",
      "|    value_loss         | 0.000166 |\n",
      "------------------------------------\n"
     ]
    },
    {
     "name": "stdout",
     "output_type": "stream",
     "text": [
      "------------------------------------\n",
      "| rollout/              |          |\n",
      "|    ep_len_mean        | 1e+03    |\n",
      "|    ep_rew_mean        | -89.4    |\n",
      "| time/                 |          |\n",
      "|    fps                | 42       |\n",
      "|    iterations         | 900      |\n",
      "|    time_elapsed       | 106      |\n",
      "|    total_timesteps    | 4500     |\n",
      "| train/                |          |\n",
      "|    entropy_loss       | -4.21    |\n",
      "|    explained_variance | 2.38e-07 |\n",
      "|    learning_rate      | 0.001    |\n",
      "|    n_updates          | 899      |\n",
      "|    policy_loss        | 0.0114   |\n",
      "|    std                | 0.986    |\n",
      "|    value_loss         | 7.8e-06  |\n",
      "------------------------------------\n"
     ]
    },
    {
     "data": {
      "text/html": [
       "<pre style=\"white-space:pre;overflow-x:auto;line-height:normal;font-family:Menlo,'DejaVu Sans Mono',consolas,'Courier New',monospace\">Eval num_timesteps=5000, episode_reward=-93.06 +/- 0.47\n",
       "</pre>\n"
      ],
      "text/plain": [
       "Eval num_timesteps=5000, episode_reward=-93.06 +/- 0.47\n"
      ]
     },
     "metadata": {},
     "output_type": "display_data"
    },
    {
     "data": {
      "text/html": [
       "<pre style=\"white-space:pre;overflow-x:auto;line-height:normal;font-family:Menlo,'DejaVu Sans Mono',consolas,'Courier New',monospace\">Episode length: 1000.00 +/- 0.00\n",
       "</pre>\n"
      ],
      "text/plain": [
       "Episode length: 1000.00 +/- 0.00\n"
      ]
     },
     "metadata": {},
     "output_type": "display_data"
    },
    {
     "name": "stdout",
     "output_type": "stream",
     "text": [
      "------------------------------------\n",
      "| eval/                 |          |\n",
      "|    mean_ep_length     | 1e+03    |\n",
      "|    mean_reward        | -93.1    |\n",
      "| time/                 |          |\n",
      "|    total_timesteps    | 5000     |\n",
      "| train/                |          |\n",
      "|    entropy_loss       | -4.2     |\n",
      "|    explained_variance | 0        |\n",
      "|    learning_rate      | 0.001    |\n",
      "|    n_updates          | 999      |\n",
      "|    policy_loss        | 0.126    |\n",
      "|    std                | 0.982    |\n",
      "|    value_loss         | 0.000998 |\n",
      "------------------------------------\n"
     ]
    },
    {
     "data": {
      "text/html": [
       "<pre style=\"white-space:pre;overflow-x:auto;line-height:normal;font-family:Menlo,'DejaVu Sans Mono',consolas,'Courier New',monospace\">New best mean reward!\n",
       "</pre>\n"
      ],
      "text/plain": [
       "New best mean reward!\n"
      ]
     },
     "metadata": {},
     "output_type": "display_data"
    },
    {
     "name": "stdout",
     "output_type": "stream",
     "text": [
      "---------------------------------\n",
      "| rollout/           |          |\n",
      "|    ep_len_mean     | 1e+03    |\n",
      "|    ep_rew_mean     | -90.2    |\n",
      "| time/              |          |\n",
      "|    fps             | 15       |\n",
      "|    iterations      | 1000     |\n",
      "|    time_elapsed    | 316      |\n",
      "|    total_timesteps | 5000     |\n",
      "---------------------------------\n"
     ]
    },
    {
     "name": "stdout",
     "output_type": "stream",
     "text": [
      "------------------------------------\n",
      "| rollout/              |          |\n",
      "|    ep_len_mean        | 1e+03    |\n",
      "|    ep_rew_mean        | -90.2    |\n",
      "| time/                 |          |\n",
      "|    fps                | 16       |\n",
      "|    iterations         | 1100     |\n",
      "|    time_elapsed       | 328      |\n",
      "|    total_timesteps    | 5500     |\n",
      "| train/                |          |\n",
      "|    entropy_loss       | -4.17    |\n",
      "|    explained_variance | 0        |\n",
      "|    learning_rate      | 0.001    |\n",
      "|    n_updates          | 1099     |\n",
      "|    policy_loss        | -0.0754  |\n",
      "|    std                | 0.971    |\n",
      "|    value_loss         | 0.00036  |\n",
      "------------------------------------\n"
     ]
    },
    {
     "name": "stdout",
     "output_type": "stream",
     "text": [
      "------------------------------------\n",
      "| rollout/              |          |\n",
      "|    ep_len_mean        | 1e+03    |\n",
      "|    ep_rew_mean        | -90.7    |\n",
      "| time/                 |          |\n",
      "|    fps                | 17       |\n",
      "|    iterations         | 1200     |\n",
      "|    time_elapsed       | 343      |\n",
      "|    total_timesteps    | 6000     |\n",
      "| train/                |          |\n",
      "|    entropy_loss       | -4.17    |\n",
      "|    explained_variance | 0.0445   |\n",
      "|    learning_rate      | 0.001    |\n",
      "|    n_updates          | 1199     |\n",
      "|    policy_loss        | 0.0485   |\n",
      "|    std                | 0.972    |\n",
      "|    value_loss         | 0.000164 |\n",
      "------------------------------------\n"
     ]
    },
    {
     "name": "stdout",
     "output_type": "stream",
     "text": [
      "------------------------------------\n",
      "| rollout/              |          |\n",
      "|    ep_len_mean        | 1e+03    |\n",
      "|    ep_rew_mean        | -90.7    |\n",
      "| time/                 |          |\n",
      "|    fps                | 18       |\n",
      "|    iterations         | 1300     |\n",
      "|    time_elapsed       | 356      |\n",
      "|    total_timesteps    | 6500     |\n",
      "| train/                |          |\n",
      "|    entropy_loss       | -4.13    |\n",
      "|    explained_variance | 0.0174   |\n",
      "|    learning_rate      | 0.001    |\n",
      "|    n_updates          | 1299     |\n",
      "|    policy_loss        | 0.0664   |\n",
      "|    std                | 0.958    |\n",
      "|    value_loss         | 0.000235 |\n",
      "------------------------------------\n"
     ]
    },
    {
     "name": "stdout",
     "output_type": "stream",
     "text": [
      "------------------------------------\n",
      "| rollout/              |          |\n",
      "|    ep_len_mean        | 1e+03    |\n",
      "|    ep_rew_mean        | -90.1    |\n",
      "| time/                 |          |\n",
      "|    fps                | 18       |\n",
      "|    iterations         | 1400     |\n",
      "|    time_elapsed       | 373      |\n",
      "|    total_timesteps    | 7000     |\n",
      "| train/                |          |\n",
      "|    entropy_loss       | -4.14    |\n",
      "|    explained_variance | -1.72    |\n",
      "|    learning_rate      | 0.001    |\n",
      "|    n_updates          | 1399     |\n",
      "|    policy_loss        | 0.0601   |\n",
      "|    std                | 0.962    |\n",
      "|    value_loss         | 0.000281 |\n",
      "------------------------------------\n"
     ]
    },
    {
     "name": "stdout",
     "output_type": "stream",
     "text": [
      "-------------------------------------\n",
      "| rollout/              |           |\n",
      "|    ep_len_mean        | 1e+03     |\n",
      "|    ep_rew_mean        | -90.1     |\n",
      "| time/                 |           |\n",
      "|    fps                | 19        |\n",
      "|    iterations         | 1500      |\n",
      "|    time_elapsed       | 388       |\n",
      "|    total_timesteps    | 7500      |\n",
      "| train/                |           |\n",
      "|    entropy_loss       | -4.12     |\n",
      "|    explained_variance | -1.19e-07 |\n",
      "|    learning_rate      | 0.001     |\n",
      "|    n_updates          | 1499      |\n",
      "|    policy_loss        | 0.0559    |\n",
      "|    std                | 0.957     |\n",
      "|    value_loss         | 0.000171  |\n",
      "-------------------------------------\n"
     ]
    },
    {
     "name": "stdout",
     "output_type": "stream",
     "text": [
      "------------------------------------\n",
      "| rollout/              |          |\n",
      "|    ep_len_mean        | 1e+03    |\n",
      "|    ep_rew_mean        | -88.7    |\n",
      "| time/                 |          |\n",
      "|    fps                | 19       |\n",
      "|    iterations         | 1600     |\n",
      "|    time_elapsed       | 400      |\n",
      "|    total_timesteps    | 8000     |\n",
      "| train/                |          |\n",
      "|    entropy_loss       | -4.13    |\n",
      "|    explained_variance | 0.276    |\n",
      "|    learning_rate      | 0.001    |\n",
      "|    n_updates          | 1599     |\n",
      "|    policy_loss        | 0.0582   |\n",
      "|    std                | 0.958    |\n",
      "|    value_loss         | 0.000263 |\n",
      "------------------------------------\n"
     ]
    },
    {
     "name": "stdout",
     "output_type": "stream",
     "text": [
      "------------------------------------\n",
      "| rollout/              |          |\n",
      "|    ep_len_mean        | 1e+03    |\n",
      "|    ep_rew_mean        | -88.7    |\n",
      "| time/                 |          |\n",
      "|    fps                | 20       |\n",
      "|    iterations         | 1700     |\n",
      "|    time_elapsed       | 414      |\n",
      "|    total_timesteps    | 8500     |\n",
      "| train/                |          |\n",
      "|    entropy_loss       | -4.13    |\n",
      "|    explained_variance | 0.381    |\n",
      "|    learning_rate      | 0.001    |\n",
      "|    n_updates          | 1699     |\n",
      "|    policy_loss        | -0.108   |\n",
      "|    std                | 0.956    |\n",
      "|    value_loss         | 0.000496 |\n",
      "------------------------------------\n"
     ]
    },
    {
     "name": "stdout",
     "output_type": "stream",
     "text": [
      "------------------------------------\n",
      "| rollout/              |          |\n",
      "|    ep_len_mean        | 1e+03    |\n",
      "|    ep_rew_mean        | -86.7    |\n",
      "| time/                 |          |\n",
      "|    fps                | 20       |\n",
      "|    iterations         | 1800     |\n",
      "|    time_elapsed       | 430      |\n",
      "|    total_timesteps    | 9000     |\n",
      "| train/                |          |\n",
      "|    entropy_loss       | -4.12    |\n",
      "|    explained_variance | -0.0743  |\n",
      "|    learning_rate      | 0.001    |\n",
      "|    n_updates          | 1799     |\n",
      "|    policy_loss        | 0.0654   |\n",
      "|    std                | 0.957    |\n",
      "|    value_loss         | 0.00032  |\n",
      "------------------------------------\n"
     ]
    },
    {
     "name": "stdout",
     "output_type": "stream",
     "text": [
      "------------------------------------\n",
      "| rollout/              |          |\n",
      "|    ep_len_mean        | 1e+03    |\n",
      "|    ep_rew_mean        | -86.7    |\n",
      "| time/                 |          |\n",
      "|    fps                | 21       |\n",
      "|    iterations         | 1900     |\n",
      "|    time_elapsed       | 445      |\n",
      "|    total_timesteps    | 9500     |\n",
      "| train/                |          |\n",
      "|    entropy_loss       | -4.13    |\n",
      "|    explained_variance | 0.144    |\n",
      "|    learning_rate      | 0.001    |\n",
      "|    n_updates          | 1899     |\n",
      "|    policy_loss        | -0.0644  |\n",
      "|    std                | 0.96     |\n",
      "|    value_loss         | 0.000414 |\n",
      "------------------------------------\n"
     ]
    },
    {
     "data": {
      "text/html": [
       "<pre style=\"white-space:pre;overflow-x:auto;line-height:normal;font-family:Menlo,'DejaVu Sans Mono',consolas,'Courier New',monospace\">Eval num_timesteps=10000, episode_reward=-86.26 +/- 0.92\n",
       "</pre>\n"
      ],
      "text/plain": [
       "Eval num_timesteps=10000, episode_reward=-86.26 +/- 0.92\n"
      ]
     },
     "metadata": {},
     "output_type": "display_data"
    },
    {
     "data": {
      "text/html": [
       "<pre style=\"white-space:pre;overflow-x:auto;line-height:normal;font-family:Menlo,'DejaVu Sans Mono',consolas,'Courier New',monospace\">Episode length: 1000.00 +/- 0.00\n",
       "</pre>\n"
      ],
      "text/plain": [
       "Episode length: 1000.00 +/- 0.00\n"
      ]
     },
     "metadata": {},
     "output_type": "display_data"
    },
    {
     "name": "stdout",
     "output_type": "stream",
     "text": [
      "------------------------------------\n",
      "| eval/                 |          |\n",
      "|    mean_ep_length     | 1e+03    |\n",
      "|    mean_reward        | -86.3    |\n",
      "| time/                 |          |\n",
      "|    total_timesteps    | 10000    |\n",
      "| train/                |          |\n",
      "|    entropy_loss       | -4.11    |\n",
      "|    explained_variance | 0.758    |\n",
      "|    learning_rate      | 0.001    |\n",
      "|    n_updates          | 1999     |\n",
      "|    policy_loss        | -0.0057  |\n",
      "|    std                | 0.954    |\n",
      "|    value_loss         | 5.99e-05 |\n",
      "------------------------------------\n"
     ]
    },
    {
     "data": {
      "text/html": [
       "<pre style=\"white-space:pre;overflow-x:auto;line-height:normal;font-family:Menlo,'DejaVu Sans Mono',consolas,'Courier New',monospace\">New best mean reward!\n",
       "</pre>\n"
      ],
      "text/plain": [
       "New best mean reward!\n"
      ]
     },
     "metadata": {},
     "output_type": "display_data"
    },
    {
     "name": "stdout",
     "output_type": "stream",
     "text": [
      "---------------------------------\n",
      "| rollout/           |          |\n",
      "|    ep_len_mean     | 1e+03    |\n",
      "|    ep_rew_mean     | -82.8    |\n",
      "| time/              |          |\n",
      "|    fps             | 15       |\n",
      "|    iterations      | 2000     |\n",
      "|    time_elapsed    | 656      |\n",
      "|    total_timesteps | 10000    |\n",
      "---------------------------------\n"
     ]
    },
    {
     "name": "stdout",
     "output_type": "stream",
     "text": [
      "------------------------------------\n",
      "| rollout/              |          |\n",
      "|    ep_len_mean        | 1e+03    |\n",
      "|    ep_rew_mean        | -82.8    |\n",
      "| time/                 |          |\n",
      "|    fps                | 15       |\n",
      "|    iterations         | 2100     |\n",
      "|    time_elapsed       | 668      |\n",
      "|    total_timesteps    | 10500    |\n",
      "| train/                |          |\n",
      "|    entropy_loss       | -4.13    |\n",
      "|    explained_variance | 0.0365   |\n",
      "|    learning_rate      | 0.001    |\n",
      "|    n_updates          | 2099     |\n",
      "|    policy_loss        | 13.2     |\n",
      "|    std                | 0.959    |\n",
      "|    value_loss         | 11.9     |\n",
      "------------------------------------\n"
     ]
    },
    {
     "name": "stdout",
     "output_type": "stream",
     "text": [
      "------------------------------------\n",
      "| rollout/              |          |\n",
      "|    ep_len_mean        | 1e+03    |\n",
      "|    ep_rew_mean        | -74.9    |\n",
      "| time/                 |          |\n",
      "|    fps                | 16       |\n",
      "|    iterations         | 2200     |\n",
      "|    time_elapsed       | 680      |\n",
      "|    total_timesteps    | 11000    |\n",
      "| train/                |          |\n",
      "|    entropy_loss       | -4.14    |\n",
      "|    explained_variance | 0.307    |\n",
      "|    learning_rate      | 0.001    |\n",
      "|    n_updates          | 2199     |\n",
      "|    policy_loss        | -0.0381  |\n",
      "|    std                | 0.964    |\n",
      "|    value_loss         | 0.000417 |\n",
      "------------------------------------\n"
     ]
    },
    {
     "name": "stdout",
     "output_type": "stream",
     "text": [
      "------------------------------------\n",
      "| rollout/              |          |\n",
      "|    ep_len_mean        | 1e+03    |\n",
      "|    ep_rew_mean        | -74.9    |\n",
      "| time/                 |          |\n",
      "|    fps                | 16       |\n",
      "|    iterations         | 2300     |\n",
      "|    time_elapsed       | 694      |\n",
      "|    total_timesteps    | 11500    |\n",
      "| train/                |          |\n",
      "|    entropy_loss       | -4.13    |\n",
      "|    explained_variance | -11.8    |\n",
      "|    learning_rate      | 0.001    |\n",
      "|    n_updates          | 2299     |\n",
      "|    policy_loss        | 0.107    |\n",
      "|    std                | 0.96     |\n",
      "|    value_loss         | 0.000774 |\n",
      "------------------------------------\n"
     ]
    },
    {
     "name": "stdout",
     "output_type": "stream",
     "text": [
      "------------------------------------\n",
      "| rollout/              |          |\n",
      "|    ep_len_mean        | 1e+03    |\n",
      "|    ep_rew_mean        | -74.9    |\n",
      "| time/                 |          |\n",
      "|    fps                | 16       |\n",
      "|    iterations         | 2400     |\n",
      "|    time_elapsed       | 705      |\n",
      "|    total_timesteps    | 12000    |\n",
      "| train/                |          |\n",
      "|    entropy_loss       | -4.14    |\n",
      "|    explained_variance | 0.0902   |\n",
      "|    learning_rate      | 0.001    |\n",
      "|    n_updates          | 2399     |\n",
      "|    policy_loss        | 0.0433   |\n",
      "|    std                | 0.961    |\n",
      "|    value_loss         | 0.000158 |\n",
      "------------------------------------\n"
     ]
    },
    {
     "name": "stdout",
     "output_type": "stream",
     "text": [
      "------------------------------------\n",
      "| rollout/              |          |\n",
      "|    ep_len_mean        | 1e+03    |\n",
      "|    ep_rew_mean        | -74.9    |\n",
      "| time/                 |          |\n",
      "|    fps                | 17       |\n",
      "|    iterations         | 2500     |\n",
      "|    time_elapsed       | 717      |\n",
      "|    total_timesteps    | 12500    |\n",
      "| train/                |          |\n",
      "|    entropy_loss       | -4.15    |\n",
      "|    explained_variance | -0.337   |\n",
      "|    learning_rate      | 0.001    |\n",
      "|    n_updates          | 2499     |\n",
      "|    policy_loss        | -0.142   |\n",
      "|    std                | 0.964    |\n",
      "|    value_loss         | 0.000885 |\n",
      "------------------------------------\n"
     ]
    },
    {
     "name": "stdout",
     "output_type": "stream",
     "text": [
      "------------------------------------\n",
      "| rollout/              |          |\n",
      "|    ep_len_mean        | 1e+03    |\n",
      "|    ep_rew_mean        | -75.4    |\n",
      "| time/                 |          |\n",
      "|    fps                | 17       |\n",
      "|    iterations         | 2600     |\n",
      "|    time_elapsed       | 729      |\n",
      "|    total_timesteps    | 13000    |\n",
      "| train/                |          |\n",
      "|    entropy_loss       | -4.17    |\n",
      "|    explained_variance | 0.802    |\n",
      "|    learning_rate      | 0.001    |\n",
      "|    n_updates          | 2599     |\n",
      "|    policy_loss        | -0.0407  |\n",
      "|    std                | 0.973    |\n",
      "|    value_loss         | 0.000162 |\n",
      "------------------------------------\n"
     ]
    },
    {
     "name": "stdout",
     "output_type": "stream",
     "text": [
      "------------------------------------\n",
      "| rollout/              |          |\n",
      "|    ep_len_mean        | 1e+03    |\n",
      "|    ep_rew_mean        | -75.4    |\n",
      "| time/                 |          |\n",
      "|    fps                | 18       |\n",
      "|    iterations         | 2700     |\n",
      "|    time_elapsed       | 741      |\n",
      "|    total_timesteps    | 13500    |\n",
      "| train/                |          |\n",
      "|    entropy_loss       | -4.17    |\n",
      "|    explained_variance | -0.467   |\n",
      "|    learning_rate      | 0.001    |\n",
      "|    n_updates          | 2699     |\n",
      "|    policy_loss        | 0.0594   |\n",
      "|    std                | 0.973    |\n",
      "|    value_loss         | 0.000247 |\n",
      "------------------------------------\n"
     ]
    },
    {
     "name": "stdout",
     "output_type": "stream",
     "text": [
      "------------------------------------\n",
      "| rollout/              |          |\n",
      "|    ep_len_mean        | 1e+03    |\n",
      "|    ep_rew_mean        | -75.4    |\n",
      "| time/                 |          |\n",
      "|    fps                | 18       |\n",
      "|    iterations         | 2800     |\n",
      "|    time_elapsed       | 756      |\n",
      "|    total_timesteps    | 14000    |\n",
      "| train/                |          |\n",
      "|    entropy_loss       | -4.17    |\n",
      "|    explained_variance | -2.23    |\n",
      "|    learning_rate      | 0.001    |\n",
      "|    n_updates          | 2799     |\n",
      "|    policy_loss        | -0.0539  |\n",
      "|    std                | 0.971    |\n",
      "|    value_loss         | 0.000244 |\n",
      "------------------------------------\n"
     ]
    },
    {
     "name": "stdout",
     "output_type": "stream",
     "text": [
      "------------------------------------\n",
      "| rollout/              |          |\n",
      "|    ep_len_mean        | 1e+03    |\n",
      "|    ep_rew_mean        | -75.4    |\n",
      "| time/                 |          |\n",
      "|    fps                | 18       |\n",
      "|    iterations         | 2900     |\n",
      "|    time_elapsed       | 770      |\n",
      "|    total_timesteps    | 14500    |\n",
      "| train/                |          |\n",
      "|    entropy_loss       | -4.16    |\n",
      "|    explained_variance | -1.58    |\n",
      "|    learning_rate      | 0.001    |\n",
      "|    n_updates          | 2899     |\n",
      "|    policy_loss        | -0.359   |\n",
      "|    std                | 0.97     |\n",
      "|    value_loss         | 0.00769  |\n",
      "------------------------------------\n"
     ]
    },
    {
     "data": {
      "text/html": [
       "<pre style=\"white-space:pre;overflow-x:auto;line-height:normal;font-family:Menlo,'DejaVu Sans Mono',consolas,'Courier New',monospace\">Eval num_timesteps=15000, episode_reward=-86.69 +/- 3.41\n",
       "</pre>\n"
      ],
      "text/plain": [
       "Eval num_timesteps=15000, episode_reward=-86.69 +/- 3.41\n"
      ]
     },
     "metadata": {},
     "output_type": "display_data"
    },
    {
     "data": {
      "text/html": [
       "<pre style=\"white-space:pre;overflow-x:auto;line-height:normal;font-family:Menlo,'DejaVu Sans Mono',consolas,'Courier New',monospace\">Episode length: 1000.00 +/- 0.00\n",
       "</pre>\n"
      ],
      "text/plain": [
       "Episode length: 1000.00 +/- 0.00\n"
      ]
     },
     "metadata": {},
     "output_type": "display_data"
    },
    {
     "name": "stdout",
     "output_type": "stream",
     "text": [
      "------------------------------------\n",
      "| eval/                 |          |\n",
      "|    mean_ep_length     | 1e+03    |\n",
      "|    mean_reward        | -86.7    |\n",
      "| time/                 |          |\n",
      "|    total_timesteps    | 15000    |\n",
      "| train/                |          |\n",
      "|    entropy_loss       | -4.2     |\n",
      "|    explained_variance | -0.0735  |\n",
      "|    learning_rate      | 0.001    |\n",
      "|    n_updates          | 2999     |\n",
      "|    policy_loss        | 0.258    |\n",
      "|    std                | 0.981    |\n",
      "|    value_loss         | 0.0052   |\n",
      "------------------------------------\n",
      "---------------------------------\n",
      "| rollout/           |          |\n",
      "|    ep_len_mean     | 1e+03    |\n",
      "|    ep_rew_mean     | -73.7    |\n",
      "| time/              |          |\n",
      "|    fps             | 15       |\n",
      "|    iterations      | 3000     |\n",
      "|    time_elapsed    | 982      |\n",
      "|    total_timesteps | 15000    |\n",
      "---------------------------------\n"
     ]
    },
    {
     "name": "stdout",
     "output_type": "stream",
     "text": [
      "------------------------------------\n",
      "| rollout/              |          |\n",
      "|    ep_len_mean        | 1e+03    |\n",
      "|    ep_rew_mean        | -73.7    |\n",
      "| time/                 |          |\n",
      "|    fps                | 15       |\n",
      "|    iterations         | 3100     |\n",
      "|    time_elapsed       | 993      |\n",
      "|    total_timesteps    | 15500    |\n",
      "| train/                |          |\n",
      "|    entropy_loss       | -4.2     |\n",
      "|    explained_variance | 0.292    |\n",
      "|    learning_rate      | 0.001    |\n",
      "|    n_updates          | 3099     |\n",
      "|    policy_loss        | 0.128    |\n",
      "|    std                | 0.982    |\n",
      "|    value_loss         | 0.000886 |\n",
      "------------------------------------\n"
     ]
    },
    {
     "name": "stdout",
     "output_type": "stream",
     "text": [
      "------------------------------------\n",
      "| rollout/              |          |\n",
      "|    ep_len_mean        | 1e+03    |\n",
      "|    ep_rew_mean        | -74      |\n",
      "| time/                 |          |\n",
      "|    fps                | 15       |\n",
      "|    iterations         | 3200     |\n",
      "|    time_elapsed       | 1006     |\n",
      "|    total_timesteps    | 16000    |\n",
      "| train/                |          |\n",
      "|    entropy_loss       | -4.21    |\n",
      "|    explained_variance | -35.3    |\n",
      "|    learning_rate      | 0.001    |\n",
      "|    n_updates          | 3199     |\n",
      "|    policy_loss        | 0.0552   |\n",
      "|    std                | 0.986    |\n",
      "|    value_loss         | 0.000281 |\n",
      "------------------------------------\n"
     ]
    },
    {
     "name": "stdout",
     "output_type": "stream",
     "text": [
      "-------------------------------------\n",
      "| rollout/              |           |\n",
      "|    ep_len_mean        | 1e+03     |\n",
      "|    ep_rew_mean        | -74       |\n",
      "| time/                 |           |\n",
      "|    fps                | 16        |\n",
      "|    iterations         | 3300      |\n",
      "|    time_elapsed       | 1018      |\n",
      "|    total_timesteps    | 16500     |\n",
      "| train/                |           |\n",
      "|    entropy_loss       | -4.22     |\n",
      "|    explained_variance | -1.19e-07 |\n",
      "|    learning_rate      | 0.001     |\n",
      "|    n_updates          | 3299      |\n",
      "|    policy_loss        | -0.0532   |\n",
      "|    std                | 0.989     |\n",
      "|    value_loss         | 0.000209  |\n",
      "-------------------------------------\n"
     ]
    },
    {
     "name": "stdout",
     "output_type": "stream",
     "text": [
      "------------------------------------\n",
      "| rollout/              |          |\n",
      "|    ep_len_mean        | 1e+03    |\n",
      "|    ep_rew_mean        | -74.7    |\n",
      "| time/                 |          |\n",
      "|    fps                | 16       |\n",
      "|    iterations         | 3400     |\n",
      "|    time_elapsed       | 1032     |\n",
      "|    total_timesteps    | 17000    |\n",
      "| train/                |          |\n",
      "|    entropy_loss       | -4.21    |\n",
      "|    explained_variance | 0.0334   |\n",
      "|    learning_rate      | 0.001    |\n",
      "|    n_updates          | 3399     |\n",
      "|    policy_loss        | -0.132   |\n",
      "|    std                | 0.985    |\n",
      "|    value_loss         | 0.00107  |\n",
      "------------------------------------\n"
     ]
    },
    {
     "name": "stdout",
     "output_type": "stream",
     "text": [
      "------------------------------------\n",
      "| rollout/              |          |\n",
      "|    ep_len_mean        | 1e+03    |\n",
      "|    ep_rew_mean        | -74.7    |\n",
      "| time/                 |          |\n",
      "|    fps                | 16       |\n",
      "|    iterations         | 3500     |\n",
      "|    time_elapsed       | 1045     |\n",
      "|    total_timesteps    | 17500    |\n",
      "| train/                |          |\n",
      "|    entropy_loss       | -4.18    |\n",
      "|    explained_variance | 0.0924   |\n",
      "|    learning_rate      | 0.001    |\n",
      "|    n_updates          | 3499     |\n",
      "|    policy_loss        | -0.0863  |\n",
      "|    std                | 0.973    |\n",
      "|    value_loss         | 0.000486 |\n",
      "------------------------------------\n"
     ]
    },
    {
     "name": "stdout",
     "output_type": "stream",
     "text": [
      "------------------------------------\n",
      "| rollout/              |          |\n",
      "|    ep_len_mean        | 1e+03    |\n",
      "|    ep_rew_mean        | -75      |\n",
      "| time/                 |          |\n",
      "|    fps                | 16       |\n",
      "|    iterations         | 3600     |\n",
      "|    time_elapsed       | 1062     |\n",
      "|    total_timesteps    | 18000    |\n",
      "| train/                |          |\n",
      "|    entropy_loss       | -4.18    |\n",
      "|    explained_variance | 0.135    |\n",
      "|    learning_rate      | 0.001    |\n",
      "|    n_updates          | 3599     |\n",
      "|    policy_loss        | 0.0876   |\n",
      "|    std                | 0.974    |\n",
      "|    value_loss         | 0.000482 |\n",
      "------------------------------------\n"
     ]
    },
    {
     "name": "stdout",
     "output_type": "stream",
     "text": [
      "------------------------------------\n",
      "| rollout/              |          |\n",
      "|    ep_len_mean        | 1e+03    |\n",
      "|    ep_rew_mean        | -75      |\n",
      "| time/                 |          |\n",
      "|    fps                | 17       |\n",
      "|    iterations         | 3700     |\n",
      "|    time_elapsed       | 1076     |\n",
      "|    total_timesteps    | 18500    |\n",
      "| train/                |          |\n",
      "|    entropy_loss       | -4.18    |\n",
      "|    explained_variance | 0        |\n",
      "|    learning_rate      | 0.001    |\n",
      "|    n_updates          | 3699     |\n",
      "|    policy_loss        | -0.0246  |\n",
      "|    std                | 0.975    |\n",
      "|    value_loss         | 4.14e-05 |\n",
      "------------------------------------\n"
     ]
    },
    {
     "name": "stdout",
     "output_type": "stream",
     "text": [
      "------------------------------------\n",
      "| rollout/              |          |\n",
      "|    ep_len_mean        | 1e+03    |\n",
      "|    ep_rew_mean        | -75.9    |\n",
      "| time/                 |          |\n",
      "|    fps                | 17       |\n",
      "|    iterations         | 3800     |\n",
      "|    time_elapsed       | 1088     |\n",
      "|    total_timesteps    | 19000    |\n",
      "| train/                |          |\n",
      "|    entropy_loss       | -4.16    |\n",
      "|    explained_variance | 0        |\n",
      "|    learning_rate      | 0.001    |\n",
      "|    n_updates          | 3799     |\n",
      "|    policy_loss        | 0.0305   |\n",
      "|    std                | 0.969    |\n",
      "|    value_loss         | 8.63e-05 |\n",
      "------------------------------------\n"
     ]
    },
    {
     "name": "stdout",
     "output_type": "stream",
     "text": [
      "------------------------------------\n",
      "| rollout/              |          |\n",
      "|    ep_len_mean        | 1e+03    |\n",
      "|    ep_rew_mean        | -75.9    |\n",
      "| time/                 |          |\n",
      "|    fps                | 17       |\n",
      "|    iterations         | 3900     |\n",
      "|    time_elapsed       | 1100     |\n",
      "|    total_timesteps    | 19500    |\n",
      "| train/                |          |\n",
      "|    entropy_loss       | -4.15    |\n",
      "|    explained_variance | 0        |\n",
      "|    learning_rate      | 0.001    |\n",
      "|    n_updates          | 3899     |\n",
      "|    policy_loss        | -0.0637  |\n",
      "|    std                | 0.964    |\n",
      "|    value_loss         | 0.000289 |\n",
      "------------------------------------\n"
     ]
    },
    {
     "data": {
      "text/html": [
       "<pre style=\"white-space:pre;overflow-x:auto;line-height:normal;font-family:Menlo,'DejaVu Sans Mono',consolas,'Courier New',monospace\">Eval num_timesteps=20000, episode_reward=-93.03 +/- 0.26\n",
       "</pre>\n"
      ],
      "text/plain": [
       "Eval num_timesteps=20000, episode_reward=-93.03 +/- 0.26\n"
      ]
     },
     "metadata": {},
     "output_type": "display_data"
    },
    {
     "data": {
      "text/html": [
       "<pre style=\"white-space:pre;overflow-x:auto;line-height:normal;font-family:Menlo,'DejaVu Sans Mono',consolas,'Courier New',monospace\">Episode length: 1000.00 +/- 0.00\n",
       "</pre>\n"
      ],
      "text/plain": [
       "Episode length: 1000.00 +/- 0.00\n"
      ]
     },
     "metadata": {},
     "output_type": "display_data"
    },
    {
     "name": "stdout",
     "output_type": "stream",
     "text": [
      "------------------------------------\n",
      "| eval/                 |          |\n",
      "|    mean_ep_length     | 1e+03    |\n",
      "|    mean_reward        | -93      |\n",
      "| time/                 |          |\n",
      "|    total_timesteps    | 20000    |\n",
      "| train/                |          |\n",
      "|    entropy_loss       | -4.15    |\n",
      "|    explained_variance | 1.19e-07 |\n",
      "|    learning_rate      | 0.001    |\n",
      "|    n_updates          | 3999     |\n",
      "|    policy_loss        | -0.101   |\n",
      "|    std                | 0.964    |\n",
      "|    value_loss         | 0.000648 |\n",
      "------------------------------------\n",
      "---------------------------------\n",
      "| rollout/           |          |\n",
      "|    ep_len_mean     | 1e+03    |\n",
      "|    ep_rew_mean     | -76.8    |\n",
      "| time/              |          |\n",
      "|    fps             | 15       |\n",
      "|    iterations      | 4000     |\n",
      "|    time_elapsed    | 1316     |\n",
      "|    total_timesteps | 20000    |\n",
      "---------------------------------\n"
     ]
    },
    {
     "data": {
      "text/html": [
       "<pre style=\"white-space:pre;overflow-x:auto;line-height:normal;font-family:Menlo,'DejaVu Sans Mono',consolas,'Courier New',monospace\"></pre>\n"
      ],
      "text/plain": []
     },
     "metadata": {},
     "output_type": "display_data"
    },
    {
     "data": {
      "image/png": "[encoded data removed]",
      "text/plain": [
       "<Figure size 640x480 with 1 Axes>"
      ]
     },
     "metadata": {},
     "output_type": "display_data"
    }
   ],
   "source": [
    "model = A2C(\n",
    "    policy=\"CnnPolicy\",\n",
    "    env=train_env,\n",
    "    learning_rate=1e-3,\n",
    "    gamma=0.99,\n",
    "    verbose=1\n",
    ")\n",
    "# Callback to evaluate the agent during training\n",
    "eval_callback = EvalCallback(\n",
    "    eval_env,\n",
    "    best_model_save_path=\"./a2c_logs/best_model/\",\n",
    "    log_path=\"./a2c_logs/results/\",\n",
    "    eval_freq=5000,\n",
    "    n_eval_episodes=10,\n",
    "    deterministic=True,\n",
    "    render=False\n",
    ")\n",
    "\n",
    "log_path = \"./a2c_logs/training/\"\n",
    "new_logger = configure(log_path, [\"stdout\", \"csv\", \"tensorboard\"])\n",
    "model.set_logger(new_logger)\n",
    "\n",
    "model.learn(total_timesteps=20_000, progress_bar=True,callback=eval_callback)\n",
    "\n",
    "model.save(\"a2c_racingcar\")\n",
    "\n",
    "mean_reward, std_reward = evaluate_policy(\n",
    "    model, eval_env, n_eval_episodes=100, return_episode_rewards=True\n",
    ")\n",
    "# Plot episode return distribution\n",
    "plt.hist(mean_reward, bins=20)\n",
    "plt.title(\"Reward Distribution over 100 Evaluation Episodes\")\n",
    "plt.xlabel(\"Episode Return\")\n",
    "plt.ylabel(\"Count\")\n",
    "plt.grid(True)\n",
    "plt.show()\n"
   ]
  },
  {
   "cell_type": "code",
   "execution_count": 2,
   "id": "5eb4b560",
   "metadata": {},
   "outputs": [
    {
     "data": {
      "image/png": "[encoded data removed]",
      "text/plain": [
       "<Figure size 1200x600 with 1 Axes>"
      ]
     },
     "metadata": {},
     "output_type": "display_data"
    }
   ],
   "source": [
    "import matplotlib.pyplot as plt\n",
    "import numpy as np\n",
    "import pandas as pd\n",
    "\n",
    "\n",
    "# Load training loss from CSV\n",
    "training_log = pd.read_csv(\"./a2c_logs/training/progress.csv\")\n",
    "timesteps = training_log[\"time/total_timesteps\"]\n",
    "loss = training_log[\"train/value_loss\"]  \n",
    "\n",
    "# Plotting\n",
    "fig, ax1 = plt.subplots(figsize=(12, 6))\n",
    "\n",
    "color = 'tab:blue'\n",
    "ax1.set_xlabel('Timesteps')\n",
    "ax1.set_ylabel('Training Loss (e.g., value_loss)', color=color)\n",
    "ax1.plot(timesteps, loss, label=\"Training Loss\", color=color)\n",
    "ax1.tick_params(axis='y', labelcolor=color)\n",
    "ax1.set_ylim(0, 0.1)\n",
    "\n",
    "plt.title(\"A2C Training Loss Reward Over Time\")\n",
    "fig.tight_layout()\n",
    "plt.show()\n"
   ]
  },
  {
   "cell_type": "code",
   "execution_count": 5,
   "id": "3a45c167",
   "metadata": {},
   "outputs": [
    {
     "data": {
      "image/png": "[encoded data removed]",
      "text/plain": [
       "<Figure size 1200x600 with 1 Axes>"
      ]
     },
     "metadata": {},
     "output_type": "display_data"
    }
   ],
   "source": [
    "plt.figure(figsize=(12,6))\n",
    "plt.plot(mean_reward, label=\"Episode Reward\")\n",
    "plt.xlabel(\"Episode\")\n",
    "plt.ylabel(\"Reward\")\n",
    "plt.title(\"Training Reward History\")\n",
    "plt.legend()\n",
    "plt.show()"
   ]
  },
  {
   "cell_type": "markdown",
   "id": "bd6d9fda",
   "metadata": {},
   "source": [
    "# SAC implementation\n",
    "\n",
    "SAC (Soft Actor-Critic) is an off-policy reinforcement learning algorithm that optimizes a stochastic policy to maximize both reward and entropy, encouraging exploration and stability. It uses separate networks for the actor, critic, and temperature to balance exploration and exploitation."
   ]
  },
  {
   "cell_type": "code",
   "execution_count": 6,
   "id": "32242e8f",
   "metadata": {},
   "outputs": [
    {
     "name": "stdout",
     "output_type": "stream",
     "text": [
      "Using cpu device\n",
      "Wrapping the env in a DummyVecEnv.\n",
      "Wrapping the env in a VecTransposeImage.\n",
      "Logging to ./sac_logs/training/\n"
     ]
    },
    {
     "data": {
      "application/vnd.jupyter.widget-view+json": {
       "model_id": "68389caf8e7b412eaa3c8bec6cffc9a7",
       "version_major": 2,
       "version_minor": 0
      },
      "text/plain": [
       "Output()"
      ]
     },
     "metadata": {},
     "output_type": "display_data"
    },
    {
     "name": "stderr",
     "output_type": "stream",
     "text": [
      "c:\\Users\\tomas\\anaconda3\\envs\\deep-learning-env\\Lib\\site-packages\\stable_baselines3\\common\\callbacks.py:418: UserWarning: Training and eval env are not of the same type<stable_baselines3.common.vec_env.vec_transpose.VecTransposeImage object at 0x0000029A4D91B950> != <stable_baselines3.common.vec_env.dummy_vec_env.DummyVecEnv object at 0x0000029A565EF790>\n",
      "  warnings.warn(\"Training and eval env are not of the same type\" f\"{self.training_env} != {self.eval_env}\")\n"
     ]
    },
    {
     "data": {
      "text/html": [
       "<pre style=\"white-space:pre;overflow-x:auto;line-height:normal;font-family:Menlo,'DejaVu Sans Mono',consolas,'Courier New',monospace\">Eval num_timesteps=25, episode_reward=-27.92 +/- 8.58\n",
       "</pre>\n"
      ],
      "text/plain": [
       "Eval num_timesteps=25, episode_reward=-27.92 +/- 8.58\n"
      ]
     },
     "metadata": {},
     "output_type": "display_data"
    },
    {
     "data": {
      "text/html": [
       "<pre style=\"white-space:pre;overflow-x:auto;line-height:normal;font-family:Menlo,'DejaVu Sans Mono',consolas,'Courier New',monospace\">Episode length: 1000.00 +/- 0.00\n",
       "</pre>\n"
      ],
      "text/plain": [
       "Episode length: 1000.00 +/- 0.00\n"
      ]
     },
     "metadata": {},
     "output_type": "display_data"
    },
    {
     "name": "stdout",
     "output_type": "stream",
     "text": [
      "---------------------------------\n",
      "| eval/              |          |\n",
      "|    mean_ep_length  | 1e+03    |\n",
      "|    mean_reward     | -27.9    |\n",
      "| time/              |          |\n",
      "|    total_timesteps | 25       |\n",
      "---------------------------------\n"
     ]
    },
    {
     "data": {
      "text/html": [
       "<pre style=\"white-space:pre;overflow-x:auto;line-height:normal;font-family:Menlo,'DejaVu Sans Mono',consolas,'Courier New',monospace\">New best mean reward!\n",
       "</pre>\n"
      ],
      "text/plain": [
       "New best mean reward!\n"
      ]
     },
     "metadata": {},
     "output_type": "display_data"
    },
    {
     "data": {
      "text/html": [
       "<pre style=\"white-space:pre;overflow-x:auto;line-height:normal;font-family:Menlo,'DejaVu Sans Mono',consolas,'Courier New',monospace\">Eval num_timesteps=50, episode_reward=-22.87 +/- 12.21\n",
       "</pre>\n"
      ],
      "text/plain": [
       "Eval num_timesteps=50, episode_reward=-22.87 +/- 12.21\n"
      ]
     },
     "metadata": {},
     "output_type": "display_data"
    },
    {
     "data": {
      "text/html": [
       "<pre style=\"white-space:pre;overflow-x:auto;line-height:normal;font-family:Menlo,'DejaVu Sans Mono',consolas,'Courier New',monospace\">Episode length: 1000.00 +/- 0.00\n",
       "</pre>\n"
      ],
      "text/plain": [
       "Episode length: 1000.00 +/- 0.00\n"
      ]
     },
     "metadata": {},
     "output_type": "display_data"
    },
    {
     "name": "stdout",
     "output_type": "stream",
     "text": [
      "---------------------------------\n",
      "| eval/              |          |\n",
      "|    mean_ep_length  | 1e+03    |\n",
      "|    mean_reward     | -22.9    |\n",
      "| time/              |          |\n",
      "|    total_timesteps | 50       |\n",
      "---------------------------------\n"
     ]
    },
    {
     "data": {
      "text/html": [
       "<pre style=\"white-space:pre;overflow-x:auto;line-height:normal;font-family:Menlo,'DejaVu Sans Mono',consolas,'Courier New',monospace\">New best mean reward!\n",
       "</pre>\n"
      ],
      "text/plain": [
       "New best mean reward!\n"
      ]
     },
     "metadata": {},
     "output_type": "display_data"
    },
    {
     "data": {
      "text/html": [
       "<pre style=\"white-space:pre;overflow-x:auto;line-height:normal;font-family:Menlo,'DejaVu Sans Mono',consolas,'Courier New',monospace\">Eval num_timesteps=75, episode_reward=-18.17 +/- 17.27\n",
       "</pre>\n"
      ],
      "text/plain": [
       "Eval num_timesteps=75, episode_reward=-18.17 +/- 17.27\n"
      ]
     },
     "metadata": {},
     "output_type": "display_data"
    },
    {
     "data": {
      "text/html": [
       "<pre style=\"white-space:pre;overflow-x:auto;line-height:normal;font-family:Menlo,'DejaVu Sans Mono',consolas,'Courier New',monospace\">Episode length: 1000.00 +/- 0.00\n",
       "</pre>\n"
      ],
      "text/plain": [
       "Episode length: 1000.00 +/- 0.00\n"
      ]
     },
     "metadata": {},
     "output_type": "display_data"
    },
    {
     "name": "stdout",
     "output_type": "stream",
     "text": [
      "---------------------------------\n",
      "| eval/              |          |\n",
      "|    mean_ep_length  | 1e+03    |\n",
      "|    mean_reward     | -18.2    |\n",
      "| time/              |          |\n",
      "|    total_timesteps | 75       |\n",
      "---------------------------------\n"
     ]
    },
    {
     "data": {
      "text/html": [
       "<pre style=\"white-space:pre;overflow-x:auto;line-height:normal;font-family:Menlo,'DejaVu Sans Mono',consolas,'Courier New',monospace\">New best mean reward!\n",
       "</pre>\n"
      ],
      "text/plain": [
       "New best mean reward!\n"
      ]
     },
     "metadata": {},
     "output_type": "display_data"
    },
    {
     "data": {
      "text/html": [
       "<pre style=\"white-space:pre;overflow-x:auto;line-height:normal;font-family:Menlo,'DejaVu Sans Mono',consolas,'Courier New',monospace\">Eval num_timesteps=100, episode_reward=-20.30 +/- 15.71\n",
       "</pre>\n"
      ],
      "text/plain": [
       "Eval num_timesteps=100, episode_reward=-20.30 +/- 15.71\n"
      ]
     },
     "metadata": {},
     "output_type": "display_data"
    },
    {
     "data": {
      "text/html": [
       "<pre style=\"white-space:pre;overflow-x:auto;line-height:normal;font-family:Menlo,'DejaVu Sans Mono',consolas,'Courier New',monospace\">Episode length: 1000.00 +/- 0.00\n",
       "</pre>\n"
      ],
      "text/plain": [
       "Episode length: 1000.00 +/- 0.00\n"
      ]
     },
     "metadata": {},
     "output_type": "display_data"
    },
    {
     "name": "stdout",
     "output_type": "stream",
     "text": [
      "---------------------------------\n",
      "| eval/              |          |\n",
      "|    mean_ep_length  | 1e+03    |\n",
      "|    mean_reward     | -20.3    |\n",
      "| time/              |          |\n",
      "|    total_timesteps | 100      |\n",
      "---------------------------------\n"
     ]
    },
    {
     "data": {
      "text/html": [
       "<pre style=\"white-space:pre;overflow-x:auto;line-height:normal;font-family:Menlo,'DejaVu Sans Mono',consolas,'Courier New',monospace\">Eval num_timesteps=125, episode_reward=-19.54 +/- 13.88\n",
       "</pre>\n"
      ],
      "text/plain": [
       "Eval num_timesteps=125, episode_reward=-19.54 +/- 13.88\n"
      ]
     },
     "metadata": {},
     "output_type": "display_data"
    },
    {
     "data": {
      "text/html": [
       "<pre style=\"white-space:pre;overflow-x:auto;line-height:normal;font-family:Menlo,'DejaVu Sans Mono',consolas,'Courier New',monospace\">Episode length: 1000.00 +/- 0.00\n",
       "</pre>\n"
      ],
      "text/plain": [
       "Episode length: 1000.00 +/- 0.00\n"
      ]
     },
     "metadata": {},
     "output_type": "display_data"
    },
    {
     "name": "stdout",
     "output_type": "stream",
     "text": [
      "---------------------------------\n",
      "| eval/              |          |\n",
      "|    mean_ep_length  | 1e+03    |\n",
      "|    mean_reward     | -19.5    |\n",
      "| time/              |          |\n",
      "|    total_timesteps | 125      |\n",
      "| train/             |          |\n",
      "|    actor_loss      | -3.46    |\n",
      "|    critic_loss     | 0.137    |\n",
      "|    ent_coef        | 0.977    |\n",
      "|    ent_coef_loss   | -0.116   |\n",
      "|    learning_rate   | 0.001    |\n",
      "|    n_updates       | 24       |\n",
      "---------------------------------\n"
     ]
    },
    {
     "data": {
      "text/html": [
       "<pre style=\"white-space:pre;overflow-x:auto;line-height:normal;font-family:Menlo,'DejaVu Sans Mono',consolas,'Courier New',monospace\">Eval num_timesteps=150, episode_reward=-10.68 +/- 22.55\n",
       "</pre>\n"
      ],
      "text/plain": [
       "Eval num_timesteps=150, episode_reward=-10.68 +/- 22.55\n"
      ]
     },
     "metadata": {},
     "output_type": "display_data"
    },
    {
     "data": {
      "text/html": [
       "<pre style=\"white-space:pre;overflow-x:auto;line-height:normal;font-family:Menlo,'DejaVu Sans Mono',consolas,'Courier New',monospace\">Episode length: 1000.00 +/- 0.00\n",
       "</pre>\n"
      ],
      "text/plain": [
       "Episode length: 1000.00 +/- 0.00\n"
      ]
     },
     "metadata": {},
     "output_type": "display_data"
    },
    {
     "name": "stdout",
     "output_type": "stream",
     "text": [
      "---------------------------------\n",
      "| eval/              |          |\n",
      "|    mean_ep_length  | 1e+03    |\n",
      "|    mean_reward     | -10.7    |\n",
      "| time/              |          |\n",
      "|    total_timesteps | 150      |\n",
      "| train/             |          |\n",
      "|    actor_loss      | -3.95    |\n",
      "|    critic_loss     | 0.368    |\n",
      "|    ent_coef        | 0.953    |\n",
      "|    ent_coef_loss   | -0.244   |\n",
      "|    learning_rate   | 0.001    |\n",
      "|    n_updates       | 49       |\n",
      "---------------------------------\n"
     ]
    },
    {
     "data": {
      "text/html": [
       "<pre style=\"white-space:pre;overflow-x:auto;line-height:normal;font-family:Menlo,'DejaVu Sans Mono',consolas,'Courier New',monospace\">New best mean reward!\n",
       "</pre>\n"
      ],
      "text/plain": [
       "New best mean reward!\n"
      ]
     },
     "metadata": {},
     "output_type": "display_data"
    },
    {
     "data": {
      "text/html": [
       "<pre style=\"white-space:pre;overflow-x:auto;line-height:normal;font-family:Menlo,'DejaVu Sans Mono',consolas,'Courier New',monospace\">Eval num_timesteps=175, episode_reward=-12.70 +/- 19.18\n",
       "</pre>\n"
      ],
      "text/plain": [
       "Eval num_timesteps=175, episode_reward=-12.70 +/- 19.18\n"
      ]
     },
     "metadata": {},
     "output_type": "display_data"
    },
    {
     "data": {
      "text/html": [
       "<pre style=\"white-space:pre;overflow-x:auto;line-height:normal;font-family:Menlo,'DejaVu Sans Mono',consolas,'Courier New',monospace\">Episode length: 1000.00 +/- 0.00\n",
       "</pre>\n"
      ],
      "text/plain": [
       "Episode length: 1000.00 +/- 0.00\n"
      ]
     },
     "metadata": {},
     "output_type": "display_data"
    },
    {
     "name": "stdout",
     "output_type": "stream",
     "text": [
      "---------------------------------\n",
      "| eval/              |          |\n",
      "|    mean_ep_length  | 1e+03    |\n",
      "|    mean_reward     | -12.7    |\n",
      "| time/              |          |\n",
      "|    total_timesteps | 175      |\n",
      "| train/             |          |\n",
      "|    actor_loss      | -3.93    |\n",
      "|    critic_loss     | 0.181    |\n",
      "|    ent_coef        | 0.93     |\n",
      "|    ent_coef_loss   | -0.368   |\n",
      "|    learning_rate   | 0.001    |\n",
      "|    n_updates       | 74       |\n",
      "---------------------------------\n"
     ]
    },
    {
     "data": {
      "text/html": [
       "<pre style=\"white-space:pre;overflow-x:auto;line-height:normal;font-family:Menlo,'DejaVu Sans Mono',consolas,'Courier New',monospace\">Eval num_timesteps=200, episode_reward=-30.49 +/- 5.75\n",
       "</pre>\n"
      ],
      "text/plain": [
       "Eval num_timesteps=200, episode_reward=-30.49 +/- 5.75\n"
      ]
     },
     "metadata": {},
     "output_type": "display_data"
    },
    {
     "data": {
      "text/html": [
       "<pre style=\"white-space:pre;overflow-x:auto;line-height:normal;font-family:Menlo,'DejaVu Sans Mono',consolas,'Courier New',monospace\">Episode length: 1000.00 +/- 0.00\n",
       "</pre>\n"
      ],
      "text/plain": [
       "Episode length: 1000.00 +/- 0.00\n"
      ]
     },
     "metadata": {},
     "output_type": "display_data"
    },
    {
     "name": "stdout",
     "output_type": "stream",
     "text": [
      "---------------------------------\n",
      "| eval/              |          |\n",
      "|    mean_ep_length  | 1e+03    |\n",
      "|    mean_reward     | -30.5    |\n",
      "| time/              |          |\n",
      "|    total_timesteps | 200      |\n",
      "| train/             |          |\n",
      "|    actor_loss      | -3.78    |\n",
      "|    critic_loss     | 0.108    |\n",
      "|    ent_coef        | 0.907    |\n",
      "|    ent_coef_loss   | -0.494   |\n",
      "|    learning_rate   | 0.001    |\n",
      "|    n_updates       | 99       |\n",
      "---------------------------------\n"
     ]
    },
    {
     "data": {
      "text/html": [
       "<pre style=\"white-space:pre;overflow-x:auto;line-height:normal;font-family:Menlo,'DejaVu Sans Mono',consolas,'Courier New',monospace\">Eval num_timesteps=225, episode_reward=-16.88 +/- 15.55\n",
       "</pre>\n"
      ],
      "text/plain": [
       "Eval num_timesteps=225, episode_reward=-16.88 +/- 15.55\n"
      ]
     },
     "metadata": {},
     "output_type": "display_data"
    },
    {
     "data": {
      "text/html": [
       "<pre style=\"white-space:pre;overflow-x:auto;line-height:normal;font-family:Menlo,'DejaVu Sans Mono',consolas,'Courier New',monospace\">Episode length: 1000.00 +/- 0.00\n",
       "</pre>\n"
      ],
      "text/plain": [
       "Episode length: 1000.00 +/- 0.00\n"
      ]
     },
     "metadata": {},
     "output_type": "display_data"
    },
    {
     "name": "stdout",
     "output_type": "stream",
     "text": [
      "---------------------------------\n",
      "| eval/              |          |\n",
      "|    mean_ep_length  | 1e+03    |\n",
      "|    mean_reward     | -16.9    |\n",
      "| time/              |          |\n",
      "|    total_timesteps | 225      |\n",
      "| train/             |          |\n",
      "|    actor_loss      | -3.8     |\n",
      "|    critic_loss     | 0.198    |\n",
      "|    ent_coef        | 0.884    |\n",
      "|    ent_coef_loss   | -0.622   |\n",
      "|    learning_rate   | 0.001    |\n",
      "|    n_updates       | 124      |\n",
      "---------------------------------\n"
     ]
    },
    {
     "data": {
      "text/html": [
       "<pre style=\"white-space:pre;overflow-x:auto;line-height:normal;font-family:Menlo,'DejaVu Sans Mono',consolas,'Courier New',monospace\">Eval num_timesteps=250, episode_reward=-15.13 +/- 18.18\n",
       "</pre>\n"
      ],
      "text/plain": [
       "Eval num_timesteps=250, episode_reward=-15.13 +/- 18.18\n"
      ]
     },
     "metadata": {},
     "output_type": "display_data"
    },
    {
     "data": {
      "text/html": [
       "<pre style=\"white-space:pre;overflow-x:auto;line-height:normal;font-family:Menlo,'DejaVu Sans Mono',consolas,'Courier New',monospace\">Episode length: 1000.00 +/- 0.00\n",
       "</pre>\n"
      ],
      "text/plain": [
       "Episode length: 1000.00 +/- 0.00\n"
      ]
     },
     "metadata": {},
     "output_type": "display_data"
    },
    {
     "name": "stdout",
     "output_type": "stream",
     "text": [
      "---------------------------------\n",
      "| eval/              |          |\n",
      "|    mean_ep_length  | 1e+03    |\n",
      "|    mean_reward     | -15.1    |\n",
      "| time/              |          |\n",
      "|    total_timesteps | 250      |\n",
      "| train/             |          |\n",
      "|    actor_loss      | -3.86    |\n",
      "|    critic_loss     | 0.397    |\n",
      "|    ent_coef        | 0.862    |\n",
      "|    ent_coef_loss   | -0.742   |\n",
      "|    learning_rate   | 0.001    |\n",
      "|    n_updates       | 149      |\n",
      "---------------------------------\n"
     ]
    },
    {
     "data": {
      "text/html": [
       "<pre style=\"white-space:pre;overflow-x:auto;line-height:normal;font-family:Menlo,'DejaVu Sans Mono',consolas,'Courier New',monospace\">Eval num_timesteps=275, episode_reward=-25.47 +/- 15.63\n",
       "</pre>\n"
      ],
      "text/plain": [
       "Eval num_timesteps=275, episode_reward=-25.47 +/- 15.63\n"
      ]
     },
     "metadata": {},
     "output_type": "display_data"
    },
    {
     "data": {
      "text/html": [
       "<pre style=\"white-space:pre;overflow-x:auto;line-height:normal;font-family:Menlo,'DejaVu Sans Mono',consolas,'Courier New',monospace\">Episode length: 1000.00 +/- 0.00\n",
       "</pre>\n"
      ],
      "text/plain": [
       "Episode length: 1000.00 +/- 0.00\n"
      ]
     },
     "metadata": {},
     "output_type": "display_data"
    },
    {
     "name": "stdout",
     "output_type": "stream",
     "text": [
      "---------------------------------\n",
      "| eval/              |          |\n",
      "|    mean_ep_length  | 1e+03    |\n",
      "|    mean_reward     | -25.5    |\n",
      "| time/              |          |\n",
      "|    total_timesteps | 275      |\n",
      "| train/             |          |\n",
      "|    actor_loss      | -3.7     |\n",
      "|    critic_loss     | 0.11     |\n",
      "|    ent_coef        | 0.841    |\n",
      "|    ent_coef_loss   | -0.872   |\n",
      "|    learning_rate   | 0.001    |\n",
      "|    n_updates       | 174      |\n",
      "---------------------------------\n"
     ]
    },
    {
     "data": {
      "text/html": [
       "<pre style=\"white-space:pre;overflow-x:auto;line-height:normal;font-family:Menlo,'DejaVu Sans Mono',consolas,'Courier New',monospace\">Eval num_timesteps=300, episode_reward=-22.05 +/- 13.05\n",
       "</pre>\n"
      ],
      "text/plain": [
       "Eval num_timesteps=300, episode_reward=-22.05 +/- 13.05\n"
      ]
     },
     "metadata": {},
     "output_type": "display_data"
    },
    {
     "data": {
      "text/html": [
       "<pre style=\"white-space:pre;overflow-x:auto;line-height:normal;font-family:Menlo,'DejaVu Sans Mono',consolas,'Courier New',monospace\">Episode length: 1000.00 +/- 0.00\n",
       "</pre>\n"
      ],
      "text/plain": [
       "Episode length: 1000.00 +/- 0.00\n"
      ]
     },
     "metadata": {},
     "output_type": "display_data"
    },
    {
     "name": "stdout",
     "output_type": "stream",
     "text": [
      "---------------------------------\n",
      "| eval/              |          |\n",
      "|    mean_ep_length  | 1e+03    |\n",
      "|    mean_reward     | -22      |\n",
      "| time/              |          |\n",
      "|    total_timesteps | 300      |\n",
      "| train/             |          |\n",
      "|    actor_loss      | -3.88    |\n",
      "|    critic_loss     | 0.125    |\n",
      "|    ent_coef        | 0.82     |\n",
      "|    ent_coef_loss   | -0.998   |\n",
      "|    learning_rate   | 0.001    |\n",
      "|    n_updates       | 199      |\n",
      "---------------------------------\n"
     ]
    },
    {
     "data": {
      "text/html": [
       "<pre style=\"white-space:pre;overflow-x:auto;line-height:normal;font-family:Menlo,'DejaVu Sans Mono',consolas,'Courier New',monospace\">Eval num_timesteps=325, episode_reward=-25.74 +/- 9.64\n",
       "</pre>\n"
      ],
      "text/plain": [
       "Eval num_timesteps=325, episode_reward=-25.74 +/- 9.64\n"
      ]
     },
     "metadata": {},
     "output_type": "display_data"
    },
    {
     "data": {
      "text/html": [
       "<pre style=\"white-space:pre;overflow-x:auto;line-height:normal;font-family:Menlo,'DejaVu Sans Mono',consolas,'Courier New',monospace\">Episode length: 1000.00 +/- 0.00\n",
       "</pre>\n"
      ],
      "text/plain": [
       "Episode length: 1000.00 +/- 0.00\n"
      ]
     },
     "metadata": {},
     "output_type": "display_data"
    },
    {
     "name": "stdout",
     "output_type": "stream",
     "text": [
      "---------------------------------\n",
      "| eval/              |          |\n",
      "|    mean_ep_length  | 1e+03    |\n",
      "|    mean_reward     | -25.7    |\n",
      "| time/              |          |\n",
      "|    total_timesteps | 325      |\n",
      "| train/             |          |\n",
      "|    actor_loss      | -3.82    |\n",
      "|    critic_loss     | 0.247    |\n",
      "|    ent_coef        | 0.8      |\n",
      "|    ent_coef_loss   | -1.13    |\n",
      "|    learning_rate   | 0.001    |\n",
      "|    n_updates       | 224      |\n",
      "---------------------------------\n"
     ]
    },
    {
     "data": {
      "text/html": [
       "<pre style=\"white-space:pre;overflow-x:auto;line-height:normal;font-family:Menlo,'DejaVu Sans Mono',consolas,'Courier New',monospace\">Eval num_timesteps=350, episode_reward=-15.15 +/- 17.77\n",
       "</pre>\n"
      ],
      "text/plain": [
       "Eval num_timesteps=350, episode_reward=-15.15 +/- 17.77\n"
      ]
     },
     "metadata": {},
     "output_type": "display_data"
    },
    {
     "data": {
      "text/html": [
       "<pre style=\"white-space:pre;overflow-x:auto;line-height:normal;font-family:Menlo,'DejaVu Sans Mono',consolas,'Courier New',monospace\">Episode length: 1000.00 +/- 0.00\n",
       "</pre>\n"
      ],
      "text/plain": [
       "Episode length: 1000.00 +/- 0.00\n"
      ]
     },
     "metadata": {},
     "output_type": "display_data"
    },
    {
     "name": "stdout",
     "output_type": "stream",
     "text": [
      "---------------------------------\n",
      "| eval/              |          |\n",
      "|    mean_ep_length  | 1e+03    |\n",
      "|    mean_reward     | -15.1    |\n",
      "| time/              |          |\n",
      "|    total_timesteps | 350      |\n",
      "| train/             |          |\n",
      "|    actor_loss      | -3.85    |\n",
      "|    critic_loss     | 0.201    |\n",
      "|    ent_coef        | 0.78     |\n",
      "|    ent_coef_loss   | -1.25    |\n",
      "|    learning_rate   | 0.001    |\n",
      "|    n_updates       | 249      |\n",
      "---------------------------------\n"
     ]
    },
    {
     "data": {
      "text/html": [
       "<pre style=\"white-space:pre;overflow-x:auto;line-height:normal;font-family:Menlo,'DejaVu Sans Mono',consolas,'Courier New',monospace\">Eval num_timesteps=375, episode_reward=-24.74 +/- 15.61\n",
       "</pre>\n"
      ],
      "text/plain": [
       "Eval num_timesteps=375, episode_reward=-24.74 +/- 15.61\n"
      ]
     },
     "metadata": {},
     "output_type": "display_data"
    },
    {
     "data": {
      "text/html": [
       "<pre style=\"white-space:pre;overflow-x:auto;line-height:normal;font-family:Menlo,'DejaVu Sans Mono',consolas,'Courier New',monospace\">Episode length: 1000.00 +/- 0.00\n",
       "</pre>\n"
      ],
      "text/plain": [
       "Episode length: 1000.00 +/- 0.00\n"
      ]
     },
     "metadata": {},
     "output_type": "display_data"
    },
    {
     "name": "stdout",
     "output_type": "stream",
     "text": [
      "---------------------------------\n",
      "| eval/              |          |\n",
      "|    mean_ep_length  | 1e+03    |\n",
      "|    mean_reward     | -24.7    |\n",
      "| time/              |          |\n",
      "|    total_timesteps | 375      |\n",
      "| train/             |          |\n",
      "|    actor_loss      | -3.92    |\n",
      "|    critic_loss     | 0.0894   |\n",
      "|    ent_coef        | 0.761    |\n",
      "|    ent_coef_loss   | -1.38    |\n",
      "|    learning_rate   | 0.001    |\n",
      "|    n_updates       | 274      |\n",
      "---------------------------------\n"
     ]
    },
    {
     "data": {
      "text/html": [
       "<pre style=\"white-space:pre;overflow-x:auto;line-height:normal;font-family:Menlo,'DejaVu Sans Mono',consolas,'Courier New',monospace\">Eval num_timesteps=400, episode_reward=-22.34 +/- 18.43\n",
       "</pre>\n"
      ],
      "text/plain": [
       "Eval num_timesteps=400, episode_reward=-22.34 +/- 18.43\n"
      ]
     },
     "metadata": {},
     "output_type": "display_data"
    },
    {
     "data": {
      "text/html": [
       "<pre style=\"white-space:pre;overflow-x:auto;line-height:normal;font-family:Menlo,'DejaVu Sans Mono',consolas,'Courier New',monospace\">Episode length: 1000.00 +/- 0.00\n",
       "</pre>\n"
      ],
      "text/plain": [
       "Episode length: 1000.00 +/- 0.00\n"
      ]
     },
     "metadata": {},
     "output_type": "display_data"
    },
    {
     "name": "stdout",
     "output_type": "stream",
     "text": [
      "---------------------------------\n",
      "| eval/              |          |\n",
      "|    mean_ep_length  | 1e+03    |\n",
      "|    mean_reward     | -22.3    |\n",
      "| time/              |          |\n",
      "|    total_timesteps | 400      |\n",
      "| train/             |          |\n",
      "|    actor_loss      | -3.93    |\n",
      "|    critic_loss     | 0.257    |\n",
      "|    ent_coef        | 0.742    |\n",
      "|    ent_coef_loss   | -1.51    |\n",
      "|    learning_rate   | 0.001    |\n",
      "|    n_updates       | 299      |\n",
      "---------------------------------\n"
     ]
    },
    {
     "data": {
      "text/html": [
       "<pre style=\"white-space:pre;overflow-x:auto;line-height:normal;font-family:Menlo,'DejaVu Sans Mono',consolas,'Courier New',monospace\">Eval num_timesteps=425, episode_reward=-19.01 +/- 14.67\n",
       "</pre>\n"
      ],
      "text/plain": [
       "Eval num_timesteps=425, episode_reward=-19.01 +/- 14.67\n"
      ]
     },
     "metadata": {},
     "output_type": "display_data"
    },
    {
     "data": {
      "text/html": [
       "<pre style=\"white-space:pre;overflow-x:auto;line-height:normal;font-family:Menlo,'DejaVu Sans Mono',consolas,'Courier New',monospace\">Episode length: 1000.00 +/- 0.00\n",
       "</pre>\n"
      ],
      "text/plain": [
       "Episode length: 1000.00 +/- 0.00\n"
      ]
     },
     "metadata": {},
     "output_type": "display_data"
    },
    {
     "name": "stdout",
     "output_type": "stream",
     "text": [
      "---------------------------------\n",
      "| eval/              |          |\n",
      "|    mean_ep_length  | 1e+03    |\n",
      "|    mean_reward     | -19      |\n",
      "| time/              |          |\n",
      "|    total_timesteps | 425      |\n",
      "| train/             |          |\n",
      "|    actor_loss      | -4.16    |\n",
      "|    critic_loss     | 0.127    |\n",
      "|    ent_coef        | 0.724    |\n",
      "|    ent_coef_loss   | -1.64    |\n",
      "|    learning_rate   | 0.001    |\n",
      "|    n_updates       | 324      |\n",
      "---------------------------------\n"
     ]
    },
    {
     "data": {
      "text/html": [
       "<pre style=\"white-space:pre;overflow-x:auto;line-height:normal;font-family:Menlo,'DejaVu Sans Mono',consolas,'Courier New',monospace\">Eval num_timesteps=450, episode_reward=-26.07 +/- 10.14\n",
       "</pre>\n"
      ],
      "text/plain": [
       "Eval num_timesteps=450, episode_reward=-26.07 +/- 10.14\n"
      ]
     },
     "metadata": {},
     "output_type": "display_data"
    },
    {
     "data": {
      "text/html": [
       "<pre style=\"white-space:pre;overflow-x:auto;line-height:normal;font-family:Menlo,'DejaVu Sans Mono',consolas,'Courier New',monospace\">Episode length: 1000.00 +/- 0.00\n",
       "</pre>\n"
      ],
      "text/plain": [
       "Episode length: 1000.00 +/- 0.00\n"
      ]
     },
     "metadata": {},
     "output_type": "display_data"
    },
    {
     "name": "stdout",
     "output_type": "stream",
     "text": [
      "---------------------------------\n",
      "| eval/              |          |\n",
      "|    mean_ep_length  | 1e+03    |\n",
      "|    mean_reward     | -26.1    |\n",
      "| time/              |          |\n",
      "|    total_timesteps | 450      |\n",
      "| train/             |          |\n",
      "|    actor_loss      | -4.12    |\n",
      "|    critic_loss     | 0.168    |\n",
      "|    ent_coef        | 0.706    |\n",
      "|    ent_coef_loss   | -1.76    |\n",
      "|    learning_rate   | 0.001    |\n",
      "|    n_updates       | 349      |\n",
      "---------------------------------\n"
     ]
    },
    {
     "data": {
      "text/html": [
       "<pre style=\"white-space:pre;overflow-x:auto;line-height:normal;font-family:Menlo,'DejaVu Sans Mono',consolas,'Courier New',monospace\">Eval num_timesteps=475, episode_reward=-11.00 +/- 19.71\n",
       "</pre>\n"
      ],
      "text/plain": [
       "Eval num_timesteps=475, episode_reward=-11.00 +/- 19.71\n"
      ]
     },
     "metadata": {},
     "output_type": "display_data"
    },
    {
     "data": {
      "text/html": [
       "<pre style=\"white-space:pre;overflow-x:auto;line-height:normal;font-family:Menlo,'DejaVu Sans Mono',consolas,'Courier New',monospace\">Episode length: 1000.00 +/- 0.00\n",
       "</pre>\n"
      ],
      "text/plain": [
       "Episode length: 1000.00 +/- 0.00\n"
      ]
     },
     "metadata": {},
     "output_type": "display_data"
    },
    {
     "name": "stdout",
     "output_type": "stream",
     "text": [
      "---------------------------------\n",
      "| eval/              |          |\n",
      "|    mean_ep_length  | 1e+03    |\n",
      "|    mean_reward     | -11      |\n",
      "| time/              |          |\n",
      "|    total_timesteps | 475      |\n",
      "| train/             |          |\n",
      "|    actor_loss      | -4.07    |\n",
      "|    critic_loss     | 0.143    |\n",
      "|    ent_coef        | 0.689    |\n",
      "|    ent_coef_loss   | -1.88    |\n",
      "|    learning_rate   | 0.001    |\n",
      "|    n_updates       | 374      |\n",
      "---------------------------------\n"
     ]
    },
    {
     "data": {
      "text/html": [
       "<pre style=\"white-space:pre;overflow-x:auto;line-height:normal;font-family:Menlo,'DejaVu Sans Mono',consolas,'Courier New',monospace\">Eval num_timesteps=500, episode_reward=-17.12 +/- 15.80\n",
       "</pre>\n"
      ],
      "text/plain": [
       "Eval num_timesteps=500, episode_reward=-17.12 +/- 15.80\n"
      ]
     },
     "metadata": {},
     "output_type": "display_data"
    },
    {
     "data": {
      "text/html": [
       "<pre style=\"white-space:pre;overflow-x:auto;line-height:normal;font-family:Menlo,'DejaVu Sans Mono',consolas,'Courier New',monospace\">Episode length: 1000.00 +/- 0.00\n",
       "</pre>\n"
      ],
      "text/plain": [
       "Episode length: 1000.00 +/- 0.00\n"
      ]
     },
     "metadata": {},
     "output_type": "display_data"
    },
    {
     "name": "stdout",
     "output_type": "stream",
     "text": [
      "---------------------------------\n",
      "| eval/              |          |\n",
      "|    mean_ep_length  | 1e+03    |\n",
      "|    mean_reward     | -17.1    |\n",
      "| time/              |          |\n",
      "|    total_timesteps | 500      |\n",
      "| train/             |          |\n",
      "|    actor_loss      | -4.25    |\n",
      "|    critic_loss     | 0.169    |\n",
      "|    ent_coef        | 0.672    |\n",
      "|    ent_coef_loss   | -2       |\n",
      "|    learning_rate   | 0.001    |\n",
      "|    n_updates       | 399      |\n",
      "---------------------------------\n"
     ]
    },
    {
     "data": {
      "text/html": [
       "<pre style=\"white-space:pre;overflow-x:auto;line-height:normal;font-family:Menlo,'DejaVu Sans Mono',consolas,'Courier New',monospace\">Eval num_timesteps=525, episode_reward=-19.19 +/- 15.63\n",
       "</pre>\n"
      ],
      "text/plain": [
       "Eval num_timesteps=525, episode_reward=-19.19 +/- 15.63\n"
      ]
     },
     "metadata": {},
     "output_type": "display_data"
    },
    {
     "data": {
      "text/html": [
       "<pre style=\"white-space:pre;overflow-x:auto;line-height:normal;font-family:Menlo,'DejaVu Sans Mono',consolas,'Courier New',monospace\">Episode length: 1000.00 +/- 0.00\n",
       "</pre>\n"
      ],
      "text/plain": [
       "Episode length: 1000.00 +/- 0.00\n"
      ]
     },
     "metadata": {},
     "output_type": "display_data"
    },
    {
     "name": "stdout",
     "output_type": "stream",
     "text": [
      "---------------------------------\n",
      "| eval/              |          |\n",
      "|    mean_ep_length  | 1e+03    |\n",
      "|    mean_reward     | -19.2    |\n",
      "| time/              |          |\n",
      "|    total_timesteps | 525      |\n",
      "| train/             |          |\n",
      "|    actor_loss      | -4.21    |\n",
      "|    critic_loss     | 0.178    |\n",
      "|    ent_coef        | 0.655    |\n",
      "|    ent_coef_loss   | -2.14    |\n",
      "|    learning_rate   | 0.001    |\n",
      "|    n_updates       | 424      |\n",
      "---------------------------------\n"
     ]
    },
    {
     "data": {
      "text/html": [
       "<pre style=\"white-space:pre;overflow-x:auto;line-height:normal;font-family:Menlo,'DejaVu Sans Mono',consolas,'Courier New',monospace\">Eval num_timesteps=550, episode_reward=-28.64 +/- 9.63\n",
       "</pre>\n"
      ],
      "text/plain": [
       "Eval num_timesteps=550, episode_reward=-28.64 +/- 9.63\n"
      ]
     },
     "metadata": {},
     "output_type": "display_data"
    },
    {
     "data": {
      "text/html": [
       "<pre style=\"white-space:pre;overflow-x:auto;line-height:normal;font-family:Menlo,'DejaVu Sans Mono',consolas,'Courier New',monospace\">Episode length: 1000.00 +/- 0.00\n",
       "</pre>\n"
      ],
      "text/plain": [
       "Episode length: 1000.00 +/- 0.00\n"
      ]
     },
     "metadata": {},
     "output_type": "display_data"
    },
    {
     "name": "stdout",
     "output_type": "stream",
     "text": [
      "---------------------------------\n",
      "| eval/              |          |\n",
      "|    mean_ep_length  | 1e+03    |\n",
      "|    mean_reward     | -28.6    |\n",
      "| time/              |          |\n",
      "|    total_timesteps | 550      |\n",
      "| train/             |          |\n",
      "|    actor_loss      | -4.29    |\n",
      "|    critic_loss     | 0.185    |\n",
      "|    ent_coef        | 0.639    |\n",
      "|    ent_coef_loss   | -2.27    |\n",
      "|    learning_rate   | 0.001    |\n",
      "|    n_updates       | 449      |\n",
      "---------------------------------\n"
     ]
    },
    {
     "data": {
      "text/html": [
       "<pre style=\"white-space:pre;overflow-x:auto;line-height:normal;font-family:Menlo,'DejaVu Sans Mono',consolas,'Courier New',monospace\">Eval num_timesteps=575, episode_reward=-25.44 +/- 11.67\n",
       "</pre>\n"
      ],
      "text/plain": [
       "Eval num_timesteps=575, episode_reward=-25.44 +/- 11.67\n"
      ]
     },
     "metadata": {},
     "output_type": "display_data"
    },
    {
     "data": {
      "text/html": [
       "<pre style=\"white-space:pre;overflow-x:auto;line-height:normal;font-family:Menlo,'DejaVu Sans Mono',consolas,'Courier New',monospace\">Episode length: 1000.00 +/- 0.00\n",
       "</pre>\n"
      ],
      "text/plain": [
       "Episode length: 1000.00 +/- 0.00\n"
      ]
     },
     "metadata": {},
     "output_type": "display_data"
    },
    {
     "name": "stdout",
     "output_type": "stream",
     "text": [
      "---------------------------------\n",
      "| eval/              |          |\n",
      "|    mean_ep_length  | 1e+03    |\n",
      "|    mean_reward     | -25.4    |\n",
      "| time/              |          |\n",
      "|    total_timesteps | 575      |\n",
      "| train/             |          |\n",
      "|    actor_loss      | -4.25    |\n",
      "|    critic_loss     | 0.147    |\n",
      "|    ent_coef        | 0.623    |\n",
      "|    ent_coef_loss   | -2.38    |\n",
      "|    learning_rate   | 0.001    |\n",
      "|    n_updates       | 474      |\n",
      "---------------------------------\n"
     ]
    },
    {
     "data": {
      "text/html": [
       "<pre style=\"white-space:pre;overflow-x:auto;line-height:normal;font-family:Menlo,'DejaVu Sans Mono',consolas,'Courier New',monospace\">Eval num_timesteps=600, episode_reward=-11.70 +/- 21.26\n",
       "</pre>\n"
      ],
      "text/plain": [
       "Eval num_timesteps=600, episode_reward=-11.70 +/- 21.26\n"
      ]
     },
     "metadata": {},
     "output_type": "display_data"
    },
    {
     "data": {
      "text/html": [
       "<pre style=\"white-space:pre;overflow-x:auto;line-height:normal;font-family:Menlo,'DejaVu Sans Mono',consolas,'Courier New',monospace\">Episode length: 1000.00 +/- 0.00\n",
       "</pre>\n"
      ],
      "text/plain": [
       "Episode length: 1000.00 +/- 0.00\n"
      ]
     },
     "metadata": {},
     "output_type": "display_data"
    },
    {
     "name": "stdout",
     "output_type": "stream",
     "text": [
      "---------------------------------\n",
      "| eval/              |          |\n",
      "|    mean_ep_length  | 1e+03    |\n",
      "|    mean_reward     | -11.7    |\n",
      "| time/              |          |\n",
      "|    total_timesteps | 600      |\n",
      "| train/             |          |\n",
      "|    actor_loss      | -4.28    |\n",
      "|    critic_loss     | 0.0486   |\n",
      "|    ent_coef        | 0.608    |\n",
      "|    ent_coef_loss   | -2.51    |\n",
      "|    learning_rate   | 0.001    |\n",
      "|    n_updates       | 499      |\n",
      "---------------------------------\n"
     ]
    },
    {
     "data": {
      "text/html": [
       "<pre style=\"white-space:pre;overflow-x:auto;line-height:normal;font-family:Menlo,'DejaVu Sans Mono',consolas,'Courier New',monospace\">Eval num_timesteps=625, episode_reward=-23.42 +/- 13.00\n",
       "</pre>\n"
      ],
      "text/plain": [
       "Eval num_timesteps=625, episode_reward=-23.42 +/- 13.00\n"
      ]
     },
     "metadata": {},
     "output_type": "display_data"
    },
    {
     "data": {
      "text/html": [
       "<pre style=\"white-space:pre;overflow-x:auto;line-height:normal;font-family:Menlo,'DejaVu Sans Mono',consolas,'Courier New',monospace\">Episode length: 1000.00 +/- 0.00\n",
       "</pre>\n"
      ],
      "text/plain": [
       "Episode length: 1000.00 +/- 0.00\n"
      ]
     },
     "metadata": {},
     "output_type": "display_data"
    },
    {
     "name": "stdout",
     "output_type": "stream",
     "text": [
      "---------------------------------\n",
      "| eval/              |          |\n",
      "|    mean_ep_length  | 1e+03    |\n",
      "|    mean_reward     | -23.4    |\n",
      "| time/              |          |\n",
      "|    total_timesteps | 625      |\n",
      "| train/             |          |\n",
      "|    actor_loss      | -4.31    |\n",
      "|    critic_loss     | 0.203    |\n",
      "|    ent_coef        | 0.593    |\n",
      "|    ent_coef_loss   | -2.65    |\n",
      "|    learning_rate   | 0.001    |\n",
      "|    n_updates       | 524      |\n",
      "---------------------------------\n"
     ]
    },
    {
     "data": {
      "text/html": [
       "<pre style=\"white-space:pre;overflow-x:auto;line-height:normal;font-family:Menlo,'DejaVu Sans Mono',consolas,'Courier New',monospace\">Eval num_timesteps=650, episode_reward=-18.05 +/- 14.99\n",
       "</pre>\n"
      ],
      "text/plain": [
       "Eval num_timesteps=650, episode_reward=-18.05 +/- 14.99\n"
      ]
     },
     "metadata": {},
     "output_type": "display_data"
    },
    {
     "data": {
      "text/html": [
       "<pre style=\"white-space:pre;overflow-x:auto;line-height:normal;font-family:Menlo,'DejaVu Sans Mono',consolas,'Courier New',monospace\">Episode length: 1000.00 +/- 0.00\n",
       "</pre>\n"
      ],
      "text/plain": [
       "Episode length: 1000.00 +/- 0.00\n"
      ]
     },
     "metadata": {},
     "output_type": "display_data"
    },
    {
     "name": "stdout",
     "output_type": "stream",
     "text": [
      "---------------------------------\n",
      "| eval/              |          |\n",
      "|    mean_ep_length  | 1e+03    |\n",
      "|    mean_reward     | -18.1    |\n",
      "| time/              |          |\n",
      "|    total_timesteps | 650      |\n",
      "| train/             |          |\n",
      "|    actor_loss      | -4.45    |\n",
      "|    critic_loss     | 0.1      |\n",
      "|    ent_coef        | 0.578    |\n",
      "|    ent_coef_loss   | -2.77    |\n",
      "|    learning_rate   | 0.001    |\n",
      "|    n_updates       | 549      |\n",
      "---------------------------------\n"
     ]
    },
    {
     "data": {
      "text/html": [
       "<pre style=\"white-space:pre;overflow-x:auto;line-height:normal;font-family:Menlo,'DejaVu Sans Mono',consolas,'Courier New',monospace\">Eval num_timesteps=675, episode_reward=-16.65 +/- 17.52\n",
       "</pre>\n"
      ],
      "text/plain": [
       "Eval num_timesteps=675, episode_reward=-16.65 +/- 17.52\n"
      ]
     },
     "metadata": {},
     "output_type": "display_data"
    },
    {
     "data": {
      "text/html": [
       "<pre style=\"white-space:pre;overflow-x:auto;line-height:normal;font-family:Menlo,'DejaVu Sans Mono',consolas,'Courier New',monospace\">Episode length: 1000.00 +/- 0.00\n",
       "</pre>\n"
      ],
      "text/plain": [
       "Episode length: 1000.00 +/- 0.00\n"
      ]
     },
     "metadata": {},
     "output_type": "display_data"
    },
    {
     "name": "stdout",
     "output_type": "stream",
     "text": [
      "---------------------------------\n",
      "| eval/              |          |\n",
      "|    mean_ep_length  | 1e+03    |\n",
      "|    mean_reward     | -16.7    |\n",
      "| time/              |          |\n",
      "|    total_timesteps | 675      |\n",
      "| train/             |          |\n",
      "|    actor_loss      | -4.27    |\n",
      "|    critic_loss     | 0.0776   |\n",
      "|    ent_coef        | 0.564    |\n",
      "|    ent_coef_loss   | -2.89    |\n",
      "|    learning_rate   | 0.001    |\n",
      "|    n_updates       | 574      |\n",
      "---------------------------------\n"
     ]
    },
    {
     "data": {
      "text/html": [
       "<pre style=\"white-space:pre;overflow-x:auto;line-height:normal;font-family:Menlo,'DejaVu Sans Mono',consolas,'Courier New',monospace\">Eval num_timesteps=700, episode_reward=-13.83 +/- 19.98\n",
       "</pre>\n"
      ],
      "text/plain": [
       "Eval num_timesteps=700, episode_reward=-13.83 +/- 19.98\n"
      ]
     },
     "metadata": {},
     "output_type": "display_data"
    },
    {
     "data": {
      "text/html": [
       "<pre style=\"white-space:pre;overflow-x:auto;line-height:normal;font-family:Menlo,'DejaVu Sans Mono',consolas,'Courier New',monospace\">Episode length: 1000.00 +/- 0.00\n",
       "</pre>\n"
      ],
      "text/plain": [
       "Episode length: 1000.00 +/- 0.00\n"
      ]
     },
     "metadata": {},
     "output_type": "display_data"
    },
    {
     "name": "stdout",
     "output_type": "stream",
     "text": [
      "---------------------------------\n",
      "| eval/              |          |\n",
      "|    mean_ep_length  | 1e+03    |\n",
      "|    mean_reward     | -13.8    |\n",
      "| time/              |          |\n",
      "|    total_timesteps | 700      |\n",
      "| train/             |          |\n",
      "|    actor_loss      | -4.68    |\n",
      "|    critic_loss     | 0.256    |\n",
      "|    ent_coef        | 0.55     |\n",
      "|    ent_coef_loss   | -3.03    |\n",
      "|    learning_rate   | 0.001    |\n",
      "|    n_updates       | 599      |\n",
      "---------------------------------\n"
     ]
    },
    {
     "data": {
      "text/html": [
       "<pre style=\"white-space:pre;overflow-x:auto;line-height:normal;font-family:Menlo,'DejaVu Sans Mono',consolas,'Courier New',monospace\">Eval num_timesteps=725, episode_reward=-19.65 +/- 19.12\n",
       "</pre>\n"
      ],
      "text/plain": [
       "Eval num_timesteps=725, episode_reward=-19.65 +/- 19.12\n"
      ]
     },
     "metadata": {},
     "output_type": "display_data"
    },
    {
     "name": "stdout",
     "output_type": "stream",
     "text": [
      "---------------------------------\n",
      "| eval/              |          |\n",
      "|    mean_ep_length  | 1e+03    |\n",
      "|    mean_reward     | -19.7    |\n",
      "| time/              |          |\n",
      "|    total_timesteps | 725      |\n",
      "| train/             |          |\n",
      "|    actor_loss      | -4.85    |\n",
      "|    critic_loss     | 0.0856   |\n",
      "|    ent_coef        | 0.536    |\n",
      "|    ent_coef_loss   | -3.16    |\n",
      "|    learning_rate   | 0.001    |\n",
      "|    n_updates       | 624      |\n",
      "---------------------------------\n"
     ]
    },
    {
     "data": {
      "text/html": [
       "<pre style=\"white-space:pre;overflow-x:auto;line-height:normal;font-family:Menlo,'DejaVu Sans Mono',consolas,'Courier New',monospace\">Eval num_timesteps=750, episode_reward=-22.85 +/- 18.70\n",
       "</pre>\n"
      ],
      "text/plain": [
       "Eval num_timesteps=750, episode_reward=-22.85 +/- 18.70\n"
      ]
     },
     "metadata": {},
     "output_type": "display_data"
    },
    {
     "data": {
      "text/html": [
       "<pre style=\"white-space:pre;overflow-x:auto;line-height:normal;font-family:Menlo,'DejaVu Sans Mono',consolas,'Courier New',monospace\">Episode length: 1000.00 +/- 0.00\n",
       "</pre>\n"
      ],
      "text/plain": [
       "Episode length: 1000.00 +/- 0.00\n"
      ]
     },
     "metadata": {},
     "output_type": "display_data"
    },
    {
     "name": "stdout",
     "output_type": "stream",
     "text": [
      "---------------------------------\n",
      "| eval/              |          |\n",
      "|    mean_ep_length  | 1e+03    |\n",
      "|    mean_reward     | -22.9    |\n",
      "| time/              |          |\n",
      "|    total_timesteps | 750      |\n",
      "| train/             |          |\n",
      "|    actor_loss      | -4.53    |\n",
      "|    critic_loss     | 0.141    |\n",
      "|    ent_coef        | 0.523    |\n",
      "|    ent_coef_loss   | -3.27    |\n",
      "|    learning_rate   | 0.001    |\n",
      "|    n_updates       | 649      |\n",
      "---------------------------------\n"
     ]
    },
    {
     "data": {
      "text/html": [
       "<pre style=\"white-space:pre;overflow-x:auto;line-height:normal;font-family:Menlo,'DejaVu Sans Mono',consolas,'Courier New',monospace\">Eval num_timesteps=775, episode_reward=-18.19 +/- 16.97\n",
       "</pre>\n"
      ],
      "text/plain": [
       "Eval num_timesteps=775, episode_reward=-18.19 +/- 16.97\n"
      ]
     },
     "metadata": {},
     "output_type": "display_data"
    },
    {
     "data": {
      "text/html": [
       "<pre style=\"white-space:pre;overflow-x:auto;line-height:normal;font-family:Menlo,'DejaVu Sans Mono',consolas,'Courier New',monospace\">Episode length: 1000.00 +/- 0.00\n",
       "</pre>\n"
      ],
      "text/plain": [
       "Episode length: 1000.00 +/- 0.00\n"
      ]
     },
     "metadata": {},
     "output_type": "display_data"
    },
    {
     "name": "stdout",
     "output_type": "stream",
     "text": [
      "---------------------------------\n",
      "| eval/              |          |\n",
      "|    mean_ep_length  | 1e+03    |\n",
      "|    mean_reward     | -18.2    |\n",
      "| time/              |          |\n",
      "|    total_timesteps | 775      |\n",
      "| train/             |          |\n",
      "|    actor_loss      | -4.54    |\n",
      "|    critic_loss     | 0.211    |\n",
      "|    ent_coef        | 0.51     |\n",
      "|    ent_coef_loss   | -3.41    |\n",
      "|    learning_rate   | 0.001    |\n",
      "|    n_updates       | 674      |\n",
      "---------------------------------\n"
     ]
    },
    {
     "data": {
      "text/html": [
       "<pre style=\"white-space:pre;overflow-x:auto;line-height:normal;font-family:Menlo,'DejaVu Sans Mono',consolas,'Courier New',monospace\">Eval num_timesteps=800, episode_reward=-15.11 +/- 18.09\n",
       "</pre>\n"
      ],
      "text/plain": [
       "Eval num_timesteps=800, episode_reward=-15.11 +/- 18.09\n"
      ]
     },
     "metadata": {},
     "output_type": "display_data"
    },
    {
     "data": {
      "text/html": [
       "<pre style=\"white-space:pre;overflow-x:auto;line-height:normal;font-family:Menlo,'DejaVu Sans Mono',consolas,'Courier New',monospace\">Episode length: 1000.00 +/- 0.00\n",
       "</pre>\n"
      ],
      "text/plain": [
       "Episode length: 1000.00 +/- 0.00\n"
      ]
     },
     "metadata": {},
     "output_type": "display_data"
    },
    {
     "name": "stdout",
     "output_type": "stream",
     "text": [
      "---------------------------------\n",
      "| eval/              |          |\n",
      "|    mean_ep_length  | 1e+03    |\n",
      "|    mean_reward     | -15.1    |\n",
      "| time/              |          |\n",
      "|    total_timesteps | 800      |\n",
      "| train/             |          |\n",
      "|    actor_loss      | -4.71    |\n",
      "|    critic_loss     | 0.164    |\n",
      "|    ent_coef        | 0.497    |\n",
      "|    ent_coef_loss   | -3.55    |\n",
      "|    learning_rate   | 0.001    |\n",
      "|    n_updates       | 699      |\n",
      "---------------------------------\n"
     ]
    },
    {
     "data": {
      "text/html": [
       "<pre style=\"white-space:pre;overflow-x:auto;line-height:normal;font-family:Menlo,'DejaVu Sans Mono',consolas,'Courier New',monospace\">Eval num_timesteps=825, episode_reward=-20.96 +/- 12.39\n",
       "</pre>\n"
      ],
      "text/plain": [
       "Eval num_timesteps=825, episode_reward=-20.96 +/- 12.39\n"
      ]
     },
     "metadata": {},
     "output_type": "display_data"
    },
    {
     "data": {
      "text/html": [
       "<pre style=\"white-space:pre;overflow-x:auto;line-height:normal;font-family:Menlo,'DejaVu Sans Mono',consolas,'Courier New',monospace\">Episode length: 1000.00 +/- 0.00\n",
       "</pre>\n"
      ],
      "text/plain": [
       "Episode length: 1000.00 +/- 0.00\n"
      ]
     },
     "metadata": {},
     "output_type": "display_data"
    },
    {
     "name": "stdout",
     "output_type": "stream",
     "text": [
      "---------------------------------\n",
      "| eval/              |          |\n",
      "|    mean_ep_length  | 1e+03    |\n",
      "|    mean_reward     | -21      |\n",
      "| time/              |          |\n",
      "|    total_timesteps | 825      |\n",
      "| train/             |          |\n",
      "|    actor_loss      | -4.67    |\n",
      "|    critic_loss     | 0.196    |\n",
      "|    ent_coef        | 0.485    |\n",
      "|    ent_coef_loss   | -3.65    |\n",
      "|    learning_rate   | 0.001    |\n",
      "|    n_updates       | 724      |\n",
      "---------------------------------\n"
     ]
    },
    {
     "data": {
      "text/html": [
       "<pre style=\"white-space:pre;overflow-x:auto;line-height:normal;font-family:Menlo,'DejaVu Sans Mono',consolas,'Courier New',monospace\">Eval num_timesteps=850, episode_reward=-19.75 +/- 15.29\n",
       "</pre>\n"
      ],
      "text/plain": [
       "Eval num_timesteps=850, episode_reward=-19.75 +/- 15.29\n"
      ]
     },
     "metadata": {},
     "output_type": "display_data"
    },
    {
     "data": {
      "text/html": [
       "<pre style=\"white-space:pre;overflow-x:auto;line-height:normal;font-family:Menlo,'DejaVu Sans Mono',consolas,'Courier New',monospace\">Episode length: 1000.00 +/- 0.00\n",
       "</pre>\n"
      ],
      "text/plain": [
       "Episode length: 1000.00 +/- 0.00\n"
      ]
     },
     "metadata": {},
     "output_type": "display_data"
    },
    {
     "name": "stdout",
     "output_type": "stream",
     "text": [
      "---------------------------------\n",
      "| eval/              |          |\n",
      "|    mean_ep_length  | 1e+03    |\n",
      "|    mean_reward     | -19.8    |\n",
      "| time/              |          |\n",
      "|    total_timesteps | 850      |\n",
      "| train/             |          |\n",
      "|    actor_loss      | -4.88    |\n",
      "|    critic_loss     | 0.177    |\n",
      "|    ent_coef        | 0.473    |\n",
      "|    ent_coef_loss   | -3.79    |\n",
      "|    learning_rate   | 0.001    |\n",
      "|    n_updates       | 749      |\n",
      "---------------------------------\n"
     ]
    },
    {
     "data": {
      "text/html": [
       "<pre style=\"white-space:pre;overflow-x:auto;line-height:normal;font-family:Menlo,'DejaVu Sans Mono',consolas,'Courier New',monospace\">Eval num_timesteps=875, episode_reward=-19.84 +/- 17.39\n",
       "</pre>\n"
      ],
      "text/plain": [
       "Eval num_timesteps=875, episode_reward=-19.84 +/- 17.39\n"
      ]
     },
     "metadata": {},
     "output_type": "display_data"
    },
    {
     "data": {
      "text/html": [
       "<pre style=\"white-space:pre;overflow-x:auto;line-height:normal;font-family:Menlo,'DejaVu Sans Mono',consolas,'Courier New',monospace\">Episode length: 1000.00 +/- 0.00\n",
       "</pre>\n"
      ],
      "text/plain": [
       "Episode length: 1000.00 +/- 0.00\n"
      ]
     },
     "metadata": {},
     "output_type": "display_data"
    },
    {
     "name": "stdout",
     "output_type": "stream",
     "text": [
      "---------------------------------\n",
      "| eval/              |          |\n",
      "|    mean_ep_length  | 1e+03    |\n",
      "|    mean_reward     | -19.8    |\n",
      "| time/              |          |\n",
      "|    total_timesteps | 875      |\n",
      "| train/             |          |\n",
      "|    actor_loss      | -4.71    |\n",
      "|    critic_loss     | 0.227    |\n",
      "|    ent_coef        | 0.462    |\n",
      "|    ent_coef_loss   | -3.89    |\n",
      "|    learning_rate   | 0.001    |\n",
      "|    n_updates       | 774      |\n",
      "---------------------------------\n"
     ]
    },
    {
     "data": {
      "text/html": [
       "<pre style=\"white-space:pre;overflow-x:auto;line-height:normal;font-family:Menlo,'DejaVu Sans Mono',consolas,'Courier New',monospace\">Eval num_timesteps=900, episode_reward=-26.68 +/- 12.44\n",
       "</pre>\n"
      ],
      "text/plain": [
       "Eval num_timesteps=900, episode_reward=-26.68 +/- 12.44\n"
      ]
     },
     "metadata": {},
     "output_type": "display_data"
    },
    {
     "data": {
      "text/html": [
       "<pre style=\"white-space:pre;overflow-x:auto;line-height:normal;font-family:Menlo,'DejaVu Sans Mono',consolas,'Courier New',monospace\">Episode length: 1000.00 +/- 0.00\n",
       "</pre>\n"
      ],
      "text/plain": [
       "Episode length: 1000.00 +/- 0.00\n"
      ]
     },
     "metadata": {},
     "output_type": "display_data"
    },
    {
     "name": "stdout",
     "output_type": "stream",
     "text": [
      "---------------------------------\n",
      "| eval/              |          |\n",
      "|    mean_ep_length  | 1e+03    |\n",
      "|    mean_reward     | -26.7    |\n",
      "| time/              |          |\n",
      "|    total_timesteps | 900      |\n",
      "| train/             |          |\n",
      "|    actor_loss      | -4.87    |\n",
      "|    critic_loss     | 0.187    |\n",
      "|    ent_coef        | 0.45     |\n",
      "|    ent_coef_loss   | -4.05    |\n",
      "|    learning_rate   | 0.001    |\n",
      "|    n_updates       | 799      |\n",
      "---------------------------------\n"
     ]
    },
    {
     "data": {
      "text/html": [
       "<pre style=\"white-space:pre;overflow-x:auto;line-height:normal;font-family:Menlo,'DejaVu Sans Mono',consolas,'Courier New',monospace\">Eval num_timesteps=925, episode_reward=-20.10 +/- 20.33\n",
       "</pre>\n"
      ],
      "text/plain": [
       "Eval num_timesteps=925, episode_reward=-20.10 +/- 20.33\n"
      ]
     },
     "metadata": {},
     "output_type": "display_data"
    },
    {
     "data": {
      "text/html": [
       "<pre style=\"white-space:pre;overflow-x:auto;line-height:normal;font-family:Menlo,'DejaVu Sans Mono',consolas,'Courier New',monospace\">Episode length: 1000.00 +/- 0.00\n",
       "</pre>\n"
      ],
      "text/plain": [
       "Episode length: 1000.00 +/- 0.00\n"
      ]
     },
     "metadata": {},
     "output_type": "display_data"
    },
    {
     "name": "stdout",
     "output_type": "stream",
     "text": [
      "---------------------------------\n",
      "| eval/              |          |\n",
      "|    mean_ep_length  | 1e+03    |\n",
      "|    mean_reward     | -20.1    |\n",
      "| time/              |          |\n",
      "|    total_timesteps | 925      |\n",
      "| train/             |          |\n",
      "|    actor_loss      | -4.96    |\n",
      "|    critic_loss     | 0.268    |\n",
      "|    ent_coef        | 0.439    |\n",
      "|    ent_coef_loss   | -4.14    |\n",
      "|    learning_rate   | 0.001    |\n",
      "|    n_updates       | 824      |\n",
      "---------------------------------\n"
     ]
    },
    {
     "data": {
      "text/html": [
       "<pre style=\"white-space:pre;overflow-x:auto;line-height:normal;font-family:Menlo,'DejaVu Sans Mono',consolas,'Courier New',monospace\">Eval num_timesteps=950, episode_reward=-22.55 +/- 15.62\n",
       "</pre>\n"
      ],
      "text/plain": [
       "Eval num_timesteps=950, episode_reward=-22.55 +/- 15.62\n"
      ]
     },
     "metadata": {},
     "output_type": "display_data"
    },
    {
     "data": {
      "text/html": [
       "<pre style=\"white-space:pre;overflow-x:auto;line-height:normal;font-family:Menlo,'DejaVu Sans Mono',consolas,'Courier New',monospace\">Episode length: 1000.00 +/- 0.00\n",
       "</pre>\n"
      ],
      "text/plain": [
       "Episode length: 1000.00 +/- 0.00\n"
      ]
     },
     "metadata": {},
     "output_type": "display_data"
    },
    {
     "name": "stdout",
     "output_type": "stream",
     "text": [
      "---------------------------------\n",
      "| eval/              |          |\n",
      "|    mean_ep_length  | 1e+03    |\n",
      "|    mean_reward     | -22.6    |\n",
      "| time/              |          |\n",
      "|    total_timesteps | 950      |\n",
      "| train/             |          |\n",
      "|    actor_loss      | -5.16    |\n",
      "|    critic_loss     | 0.106    |\n",
      "|    ent_coef        | 0.428    |\n",
      "|    ent_coef_loss   | -4.27    |\n",
      "|    learning_rate   | 0.001    |\n",
      "|    n_updates       | 849      |\n",
      "---------------------------------\n"
     ]
    },
    {
     "data": {
      "text/html": [
       "<pre style=\"white-space:pre;overflow-x:auto;line-height:normal;font-family:Menlo,'DejaVu Sans Mono',consolas,'Courier New',monospace\">Eval num_timesteps=975, episode_reward=-14.98 +/- 17.99\n",
       "</pre>\n"
      ],
      "text/plain": [
       "Eval num_timesteps=975, episode_reward=-14.98 +/- 17.99\n"
      ]
     },
     "metadata": {},
     "output_type": "display_data"
    },
    {
     "data": {
      "text/html": [
       "<pre style=\"white-space:pre;overflow-x:auto;line-height:normal;font-family:Menlo,'DejaVu Sans Mono',consolas,'Courier New',monospace\">Episode length: 1000.00 +/- 0.00\n",
       "</pre>\n"
      ],
      "text/plain": [
       "Episode length: 1000.00 +/- 0.00\n"
      ]
     },
     "metadata": {},
     "output_type": "display_data"
    },
    {
     "name": "stdout",
     "output_type": "stream",
     "text": [
      "---------------------------------\n",
      "| eval/              |          |\n",
      "|    mean_ep_length  | 1e+03    |\n",
      "|    mean_reward     | -15      |\n",
      "| time/              |          |\n",
      "|    total_timesteps | 975      |\n",
      "| train/             |          |\n",
      "|    actor_loss      | -5.12    |\n",
      "|    critic_loss     | 0.168    |\n",
      "|    ent_coef        | 0.418    |\n",
      "|    ent_coef_loss   | -4.43    |\n",
      "|    learning_rate   | 0.001    |\n",
      "|    n_updates       | 874      |\n",
      "---------------------------------\n"
     ]
    },
    {
     "data": {
      "text/html": [
       "<pre style=\"white-space:pre;overflow-x:auto;line-height:normal;font-family:Menlo,'DejaVu Sans Mono',consolas,'Courier New',monospace\">Eval num_timesteps=1000, episode_reward=-23.07 +/- 14.48\n",
       "</pre>\n"
      ],
      "text/plain": [
       "Eval num_timesteps=1000, episode_reward=-23.07 +/- 14.48\n"
      ]
     },
     "metadata": {},
     "output_type": "display_data"
    },
    {
     "data": {
      "text/html": [
       "<pre style=\"white-space:pre;overflow-x:auto;line-height:normal;font-family:Menlo,'DejaVu Sans Mono',consolas,'Courier New',monospace\">Episode length: 1000.00 +/- 0.00\n",
       "</pre>\n"
      ],
      "text/plain": [
       "Episode length: 1000.00 +/- 0.00\n"
      ]
     },
     "metadata": {},
     "output_type": "display_data"
    },
    {
     "name": "stdout",
     "output_type": "stream",
     "text": [
      "---------------------------------\n",
      "| eval/              |          |\n",
      "|    mean_ep_length  | 1e+03    |\n",
      "|    mean_reward     | -23.1    |\n",
      "| time/              |          |\n",
      "|    total_timesteps | 1000     |\n",
      "| train/             |          |\n",
      "|    actor_loss      | -5.04    |\n",
      "|    critic_loss     | 0.144    |\n",
      "|    ent_coef        | 0.407    |\n",
      "|    ent_coef_loss   | -4.53    |\n",
      "|    learning_rate   | 0.001    |\n",
      "|    n_updates       | 899      |\n",
      "---------------------------------\n"
     ]
    },
    {
     "data": {
      "text/html": [
       "<pre style=\"white-space:pre;overflow-x:auto;line-height:normal;font-family:Menlo,'DejaVu Sans Mono',consolas,'Courier New',monospace\"></pre>\n"
      ],
      "text/plain": []
     },
     "metadata": {},
     "output_type": "display_data"
    },
    {
     "data": {
      "image/png": "[encoded data removed]",
      "text/plain": [
       "<Figure size 640x480 with 1 Axes>"
      ]
     },
     "metadata": {},
     "output_type": "display_data"
    }
   ],
   "source": [
    "model = SAC(\n",
    "    policy=\"CnnPolicy\",\n",
    "    env=train_env,\n",
    "    learning_rate=1e-3,\n",
    "    gamma=0.99,\n",
    "    buffer_size=1000,\n",
    "    verbose=1\n",
    ")\n",
    "# Callback to evaluate the agent during training\n",
    "eval_callback = EvalCallback(\n",
    "    eval_env,\n",
    "    best_model_save_path=\"./sac_logs/best_model/\",\n",
    "    log_path=\"./sac_logs/results/\",\n",
    "    eval_freq=25,\n",
    "    n_eval_episodes=10,\n",
    "    deterministic=True,\n",
    "    render=False\n",
    ")\n",
    "\n",
    "log_path = \"./sac_logs/training/\"\n",
    "new_logger = configure(log_path, [\"stdout\", \"csv\", \"tensorboard\"])\n",
    "model.set_logger(new_logger)\n",
    "\n",
    "model.learn(total_timesteps=1000, progress_bar=True,callback=eval_callback)\n",
    "\n",
    "model.save(\"sac_racingcar\")\n",
    "\n",
    "mean_reward, std_reward = evaluate_policy(\n",
    "    model, eval_env, n_eval_episodes=100, return_episode_rewards=True\n",
    ")\n",
    "# Plot episode return distribution\n",
    "plt.hist(mean_reward, bins=20)\n",
    "plt.title(\"Reward Distribution over 100 Evaluation Episodes\")\n",
    "plt.xlabel(\"Episode Return\")\n",
    "plt.ylabel(\"Count\")\n",
    "plt.grid(True)\n",
    "plt.show()\n"
   ]
  },
  {
   "cell_type": "code",
   "execution_count": 3,
   "id": "7741965b",
   "metadata": {},
   "outputs": [
    {
     "data": {
      "image/png": "[encoded data removed]",
      "text/plain": [
       "<Figure size 1200x600 with 1 Axes>"
      ]
     },
     "metadata": {},
     "output_type": "display_data"
    }
   ],
   "source": [
    "import pandas as pd\n",
    "# Load training loss from CSV\n",
    "training_log = pd.read_csv(\"./sac_logs/training/progress.csv\")\n",
    "timesteps = training_log[\"time/total_timesteps\"]\n",
    "loss = training_log[\"train/actor_loss\"]  \n",
    "\n",
    "# Plotting\n",
    "fig, ax1 = plt.subplots(figsize=(12, 6))\n",
    "\n",
    "color = 'tab:blue'\n",
    "ax1.set_xlabel('Timesteps')\n",
    "ax1.set_ylabel('Training Loss (e.g., value_loss)', color=color)\n",
    "ax1.plot(timesteps, loss, label=\"Training Loss\", color=color)\n",
    "ax1.tick_params(axis='y', labelcolor=color)\n",
    "\n",
    "plt.title(\"SAC Training  Actor Loss over time\")\n",
    "fig.tight_layout()\n",
    "plt.show()"
   ]
  },
  {
   "cell_type": "code",
   "execution_count": 8,
   "id": "158d2c3e",
   "metadata": {},
   "outputs": [
    {
     "data": {
      "image/png": "[encoded data removed]",
      "text/plain": [
       "<Figure size 1200x600 with 1 Axes>"
      ]
     },
     "metadata": {},
     "output_type": "display_data"
    }
   ],
   "source": [
    "plt.figure(figsize=(12,6))\n",
    "plt.plot(mean_reward, label=\"Episode Reward\")\n",
    "plt.xlabel(\"Episode\")\n",
    "plt.ylabel(\"Reward\")\n",
    "plt.title(\"Training Reward History\")\n",
    "plt.legend()\n",
    "plt.show()"
   ]
  }
 ],
 "metadata": {
  "kernelspec": {
   "display_name": "deep-learning-env",
   "language": "python",
   "name": "python3"
  },
  "language_info": {
   "codemirror_mode": {
    "name": "ipython",
    "version": 3
   },
   "file_extension": ".py",
   "mimetype": "text/x-python",
   "name": "python",
   "nbconvert_exporter": "python",
   "pygments_lexer": "ipython3",
   "version": "3.11.11"
  }
 },
 "nbformat": 4,
 "nbformat_minor": 5
}
